{
 "cells": [
  {
   "cell_type": "markdown",
   "metadata": {},
   "source": [
    "# Goals\n",
    "- Increase enrolment of students\n",
    "- Improve retention, progression and graduation rates\n",
    "- Recruite better academically qualified undergraduate and graduate students\n",
    "- Increase external funding and recognition\n",
    "# Business Questions\n",
    "- Identify key drivers of early student attrition\n",
    "- Build a predictive model to identify students with high early attrition risk\n",
    "- Recommend appropriate interventions based on the analysis\n",
    "> Early attrition is defined as students drop out within one year of successfully joining the program (completed admission process)\n",
    "# Deliverables\n",
    "Besided the well documented code, powerpoint report should outline and summarize the following :\n",
    "- Exploratory data analysis showing key associations\n",
    "- Segment analysis showing key drivers of attrition\n",
    "- Results of statistical modelling along with business interpretations and recommended interventions"
   ]
  },
  {
   "cell_type": "code",
   "execution_count": 217,
   "metadata": {},
   "outputs": [],
   "source": [
    "import pandas as pd\n",
    "import numpy as np  \n",
    "import matplotlib.pyplot as plt\n",
    "import seaborn as sns\n",
    "import os\n",
    "%matplotlib inline"
   ]
  },
  {
   "cell_type": "code",
   "execution_count": 218,
   "metadata": {},
   "outputs": [],
   "source": [
    "# Getting the filepath\n",
    "pwd = os.getcwd()\n",
    "filepath = os.path.join(os.path.dirname(pwd),\"input\\\\Student Applications & Performance.xlsx\")"
   ]
  },
  {
   "cell_type": "code",
   "execution_count": 219,
   "metadata": {
    "scrolled": true
   },
   "outputs": [
    {
     "data": {
      "text/html": [
       "<div>\n",
       "<style scoped>\n",
       "    .dataframe tbody tr th:only-of-type {\n",
       "        vertical-align: middle;\n",
       "    }\n",
       "\n",
       "    .dataframe tbody tr th {\n",
       "        vertical-align: top;\n",
       "    }\n",
       "\n",
       "    .dataframe thead th {\n",
       "        text-align: right;\n",
       "    }\n",
       "</style>\n",
       "<table border=\"1\" class=\"dataframe\">\n",
       "  <thead>\n",
       "    <tr style=\"text-align: right;\">\n",
       "      <th></th>\n",
       "      <th>STUDENT IDENTIFIER</th>\n",
       "      <th>STDNT_AGE</th>\n",
       "      <th>STDNT_GENDER</th>\n",
       "      <th>STDNT_BACKGROUND</th>\n",
       "      <th>IN_STATE_FLAG</th>\n",
       "      <th>INTERNATIONAL_STS</th>\n",
       "      <th>STDNT_MAJOR</th>\n",
       "      <th>STDNT_MINOR</th>\n",
       "      <th>STDNT_TEST_ENTRANCE1</th>\n",
       "      <th>STDNT_TEST_ENTRANCE2</th>\n",
       "      <th>...</th>\n",
       "      <th>DEGREE_GROUP_CD</th>\n",
       "      <th>DEGREE_GROUP_DESC</th>\n",
       "      <th>FIRST_TERM_ATTEMPT_HRS</th>\n",
       "      <th>FIRST_TERM_EARNED_HRS</th>\n",
       "      <th>SECOND_TERM_ATTEMPT_HRS</th>\n",
       "      <th>SECOND_TERM_EARNED_HRS</th>\n",
       "      <th>GROSS_FIN_NEED</th>\n",
       "      <th>COST_OF_ATTEND</th>\n",
       "      <th>EST_FAM_CONTRIBUTION</th>\n",
       "      <th>UNMET_NEED</th>\n",
       "    </tr>\n",
       "  </thead>\n",
       "  <tbody>\n",
       "    <tr>\n",
       "      <th>0</th>\n",
       "      <td>7808615</td>\n",
       "      <td>18</td>\n",
       "      <td>F</td>\n",
       "      <td>BGD 1</td>\n",
       "      <td>Y</td>\n",
       "      <td>N</td>\n",
       "      <td>Undeclared</td>\n",
       "      <td>N</td>\n",
       "      <td>NaN</td>\n",
       "      <td>1150.0</td>\n",
       "      <td>...</td>\n",
       "      <td>B</td>\n",
       "      <td>Bachelors</td>\n",
       "      <td>16</td>\n",
       "      <td>16</td>\n",
       "      <td>14.0</td>\n",
       "      <td>14.0</td>\n",
       "      <td>0</td>\n",
       "      <td>0</td>\n",
       "      <td>0</td>\n",
       "      <td>0.0</td>\n",
       "    </tr>\n",
       "    <tr>\n",
       "      <th>1</th>\n",
       "      <td>7830063</td>\n",
       "      <td>19</td>\n",
       "      <td>F</td>\n",
       "      <td>BGD 1</td>\n",
       "      <td>N</td>\n",
       "      <td>N</td>\n",
       "      <td>Undeclared</td>\n",
       "      <td>N</td>\n",
       "      <td>26.0</td>\n",
       "      <td>NaN</td>\n",
       "      <td>...</td>\n",
       "      <td>B</td>\n",
       "      <td>Bachelors</td>\n",
       "      <td>18</td>\n",
       "      <td>18</td>\n",
       "      <td>18.0</td>\n",
       "      <td>18.0</td>\n",
       "      <td>570000</td>\n",
       "      <td>1355760</td>\n",
       "      <td>785760</td>\n",
       "      <td>459300.0</td>\n",
       "    </tr>\n",
       "    <tr>\n",
       "      <th>2</th>\n",
       "      <td>7847538</td>\n",
       "      <td>18</td>\n",
       "      <td>M</td>\n",
       "      <td>BGD 1</td>\n",
       "      <td>Y</td>\n",
       "      <td>N</td>\n",
       "      <td>Mathematics</td>\n",
       "      <td>N</td>\n",
       "      <td>NaN</td>\n",
       "      <td>1020.0</td>\n",
       "      <td>...</td>\n",
       "      <td>B</td>\n",
       "      <td>Bachelors</td>\n",
       "      <td>15</td>\n",
       "      <td>15</td>\n",
       "      <td>14.0</td>\n",
       "      <td>14.0</td>\n",
       "      <td>0</td>\n",
       "      <td>0</td>\n",
       "      <td>0</td>\n",
       "      <td>0.0</td>\n",
       "    </tr>\n",
       "    <tr>\n",
       "      <th>3</th>\n",
       "      <td>8006429</td>\n",
       "      <td>18</td>\n",
       "      <td>M</td>\n",
       "      <td>BGD 1</td>\n",
       "      <td>Y</td>\n",
       "      <td>N</td>\n",
       "      <td>Undeclared</td>\n",
       "      <td>N</td>\n",
       "      <td>NaN</td>\n",
       "      <td>1210.0</td>\n",
       "      <td>...</td>\n",
       "      <td>B</td>\n",
       "      <td>Bachelors</td>\n",
       "      <td>13</td>\n",
       "      <td>13</td>\n",
       "      <td>14.0</td>\n",
       "      <td>14.0</td>\n",
       "      <td>0</td>\n",
       "      <td>0</td>\n",
       "      <td>0</td>\n",
       "      <td>0.0</td>\n",
       "    </tr>\n",
       "    <tr>\n",
       "      <th>4</th>\n",
       "      <td>7962680</td>\n",
       "      <td>18</td>\n",
       "      <td>F</td>\n",
       "      <td>BGD 1</td>\n",
       "      <td>Y</td>\n",
       "      <td>N</td>\n",
       "      <td>Art</td>\n",
       "      <td>N</td>\n",
       "      <td>NaN</td>\n",
       "      <td>1200.0</td>\n",
       "      <td>...</td>\n",
       "      <td>B</td>\n",
       "      <td>Bachelors</td>\n",
       "      <td>12</td>\n",
       "      <td>12</td>\n",
       "      <td>12.0</td>\n",
       "      <td>12.0</td>\n",
       "      <td>835920</td>\n",
       "      <td>1355760</td>\n",
       "      <td>519840</td>\n",
       "      <td>278340.0</td>\n",
       "    </tr>\n",
       "  </tbody>\n",
       "</table>\n",
       "<p>5 rows × 56 columns</p>\n",
       "</div>"
      ],
      "text/plain": [
       "   STUDENT IDENTIFIER  STDNT_AGE STDNT_GENDER STDNT_BACKGROUND IN_STATE_FLAG  \\\n",
       "0             7808615         18            F            BGD 1             Y   \n",
       "1             7830063         19            F            BGD 1             N   \n",
       "2             7847538         18            M            BGD 1             Y   \n",
       "3             8006429         18            M            BGD 1             Y   \n",
       "4             7962680         18            F            BGD 1             Y   \n",
       "\n",
       "  INTERNATIONAL_STS  STDNT_MAJOR STDNT_MINOR  STDNT_TEST_ENTRANCE1  \\\n",
       "0                 N   Undeclared           N                   NaN   \n",
       "1                 N   Undeclared           N                  26.0   \n",
       "2                 N  Mathematics           N                   NaN   \n",
       "3                 N   Undeclared           N                   NaN   \n",
       "4                 N          Art           N                   NaN   \n",
       "\n",
       "   STDNT_TEST_ENTRANCE2  ...  DEGREE_GROUP_CD  DEGREE_GROUP_DESC  \\\n",
       "0                1150.0  ...                B          Bachelors   \n",
       "1                   NaN  ...                B          Bachelors   \n",
       "2                1020.0  ...                B          Bachelors   \n",
       "3                1210.0  ...                B          Bachelors   \n",
       "4                1200.0  ...                B          Bachelors   \n",
       "\n",
       "  FIRST_TERM_ATTEMPT_HRS FIRST_TERM_EARNED_HRS SECOND_TERM_ATTEMPT_HRS  \\\n",
       "0                     16                    16                    14.0   \n",
       "1                     18                    18                    18.0   \n",
       "2                     15                    15                    14.0   \n",
       "3                     13                    13                    14.0   \n",
       "4                     12                    12                    12.0   \n",
       "\n",
       "  SECOND_TERM_EARNED_HRS GROSS_FIN_NEED COST_OF_ATTEND EST_FAM_CONTRIBUTION  \\\n",
       "0                   14.0              0              0                    0   \n",
       "1                   18.0         570000        1355760               785760   \n",
       "2                   14.0              0              0                    0   \n",
       "3                   14.0              0              0                    0   \n",
       "4                   12.0         835920        1355760               519840   \n",
       "\n",
       "  UNMET_NEED  \n",
       "0        0.0  \n",
       "1   459300.0  \n",
       "2        0.0  \n",
       "3        0.0  \n",
       "4   278340.0  \n",
       "\n",
       "[5 rows x 56 columns]"
      ]
     },
     "execution_count": 219,
     "metadata": {},
     "output_type": "execute_result"
    }
   ],
   "source": [
    "# Loading the data\n",
    "df = pd.read_excel(filepath,sheet_name=\"University information\")\n",
    "df.head()"
   ]
  },
  {
   "cell_type": "code",
   "execution_count": 220,
   "metadata": {},
   "outputs": [
    {
     "data": {
      "text/plain": [
       "(3400, 56)"
      ]
     },
     "execution_count": 220,
     "metadata": {},
     "output_type": "execute_result"
    }
   ],
   "source": [
    "df.shape"
   ]
  },
  {
   "cell_type": "code",
   "execution_count": 221,
   "metadata": {},
   "outputs": [],
   "source": [
    "df_cp = df.copy()\n",
    "# for when we make changes to this data"
   ]
  },
  {
   "cell_type": "code",
   "execution_count": 222,
   "metadata": {},
   "outputs": [],
   "source": [
    "# import sweetviz as sv\n",
    "# clear_report = sv.analyze(df)\n",
    "# clear_report.show_html('clear_report.html')"
   ]
  },
  {
   "cell_type": "code",
   "execution_count": 223,
   "metadata": {},
   "outputs": [
    {
     "name": "stdout",
     "output_type": "stream",
     "text": [
      "<class 'pandas.core.frame.DataFrame'>\n",
      "RangeIndex: 3400 entries, 0 to 3399\n",
      "Data columns (total 56 columns):\n",
      " #   Column                    Non-Null Count  Dtype  \n",
      "---  ------                    --------------  -----  \n",
      " 0   STUDENT IDENTIFIER        3400 non-null   int64  \n",
      " 1   STDNT_AGE                 3400 non-null   int64  \n",
      " 2   STDNT_GENDER              3400 non-null   object \n",
      " 3   STDNT_BACKGROUND          3400 non-null   object \n",
      " 4   IN_STATE_FLAG             3400 non-null   object \n",
      " 5   INTERNATIONAL_STS         3400 non-null   object \n",
      " 6   STDNT_MAJOR               3400 non-null   object \n",
      " 7   STDNT_MINOR               3400 non-null   object \n",
      " 8   STDNT_TEST_ENTRANCE1      1106 non-null   float64\n",
      " 9   STDNT_TEST_ENTRANCE2      2492 non-null   float64\n",
      " 10  STDNT_TEST_ENTRANCE_COMB  2882 non-null   float64\n",
      " 11  FIRST_TERM                3400 non-null   int64  \n",
      " 12  CORE_COURSE_NAME_1_F      3400 non-null   object \n",
      " 13  CORE_COURSE_GRADE_1_F     3400 non-null   object \n",
      " 14  CORE_COURSE_NAME_2_F      3301 non-null   object \n",
      " 15  CORE_COURSE_GRADE_2_F     3301 non-null   object \n",
      " 16  CORE_COURSE_NAME_3_F      2835 non-null   object \n",
      " 17  CORE_COURSE_GRADE_3_F     2835 non-null   object \n",
      " 18  CORE_COURSE_NAME_4_F      1803 non-null   object \n",
      " 19  CORE_COURSE_GRADE_4_F     1803 non-null   object \n",
      " 20  CORE_COURSE_NAME_5_F      645 non-null    object \n",
      " 21  CORE_COURSE_GRADE_5_F     645 non-null    object \n",
      " 22  CORE_COURSE_NAME_6_F      128 non-null    object \n",
      " 23  CORE_COURSE_GRADE_6_F     128 non-null    object \n",
      " 24  SECOND_TERM               3400 non-null   int64  \n",
      " 25  CORE_COURSE_NAME_1_S      3243 non-null   object \n",
      " 26  CORE_COURSE_GRADE_1_S     3168 non-null   object \n",
      " 27  CORE_COURSE_NAME_2_S      2961 non-null   object \n",
      " 28  CORE_COURSE_GRADE_2_S     2961 non-null   object \n",
      " 29  CORE_COURSE_NAME_3_S      2362 non-null   object \n",
      " 30  CORE_COURSE_GRADE_3_S     2362 non-null   object \n",
      " 31  CORE_COURSE_NAME_4_S      1355 non-null   object \n",
      " 32  CORE_COURSE_GRADE_4_S     1355 non-null   object \n",
      " 33  CORE_COURSE_NAME_5_S      450 non-null    object \n",
      " 34  CORE_COURSE_GRADE_5_S     450 non-null    object \n",
      " 35  CORE_COURSE_NAME_6_S      81 non-null     object \n",
      " 36  CORE_COURSE_GRADE_6_S     81 non-null     object \n",
      " 37  HOUSING_STS               3400 non-null   object \n",
      " 38  RETURNED_2ND_YR           3400 non-null   int64  \n",
      " 39  DISTANCE_FROM_HOME        3375 non-null   float64\n",
      " 40  HIGH_SCHL_GPA             3347 non-null   float64\n",
      " 41  HIGH_SCHL_NAME            3399 non-null   object \n",
      " 42  FATHER_HI_EDU_CD          2968 non-null   float64\n",
      " 43  FATHER_HI_EDU_DESC        3400 non-null   object \n",
      " 44  MOTHER_HI_EDU_CD          2911 non-null   float64\n",
      " 45  MOTHER_HI_EDU_DESC        3400 non-null   object \n",
      " 46  DEGREE_GROUP_CD           3400 non-null   object \n",
      " 47  DEGREE_GROUP_DESC         3400 non-null   object \n",
      " 48  FIRST_TERM_ATTEMPT_HRS    3400 non-null   int64  \n",
      " 49  FIRST_TERM_EARNED_HRS     3400 non-null   int64  \n",
      " 50  SECOND_TERM_ATTEMPT_HRS   3194 non-null   float64\n",
      " 51  SECOND_TERM_EARNED_HRS    3191 non-null   float64\n",
      " 52  GROSS_FIN_NEED            3400 non-null   int64  \n",
      " 53  COST_OF_ATTEND            3400 non-null   int64  \n",
      " 54  EST_FAM_CONTRIBUTION      3400 non-null   int64  \n",
      " 55  UNMET_NEED                3400 non-null   float64\n",
      "dtypes: float64(10), int64(10), object(36)\n",
      "memory usage: 1.5+ MB\n"
     ]
    }
   ],
   "source": [
    "df.info()"
   ]
  },
  {
   "cell_type": "code",
   "execution_count": 224,
   "metadata": {},
   "outputs": [
    {
     "data": {
      "text/plain": [
       "STUDENT IDENTIFIER             0\n",
       "STDNT_AGE                      0\n",
       "STDNT_GENDER                   0\n",
       "STDNT_BACKGROUND               0\n",
       "IN_STATE_FLAG                  0\n",
       "INTERNATIONAL_STS              0\n",
       "STDNT_MAJOR                    0\n",
       "STDNT_MINOR                    0\n",
       "STDNT_TEST_ENTRANCE1        2294\n",
       "STDNT_TEST_ENTRANCE2         908\n",
       "STDNT_TEST_ENTRANCE_COMB     518\n",
       "FIRST_TERM                     0\n",
       "CORE_COURSE_NAME_1_F           0\n",
       "CORE_COURSE_GRADE_1_F          0\n",
       "CORE_COURSE_NAME_2_F          99\n",
       "CORE_COURSE_GRADE_2_F         99\n",
       "CORE_COURSE_NAME_3_F         565\n",
       "CORE_COURSE_GRADE_3_F        565\n",
       "CORE_COURSE_NAME_4_F        1597\n",
       "CORE_COURSE_GRADE_4_F       1597\n",
       "CORE_COURSE_NAME_5_F        2755\n",
       "CORE_COURSE_GRADE_5_F       2755\n",
       "CORE_COURSE_NAME_6_F        3272\n",
       "CORE_COURSE_GRADE_6_F       3272\n",
       "SECOND_TERM                    0\n",
       "CORE_COURSE_NAME_1_S         157\n",
       "CORE_COURSE_GRADE_1_S        232\n",
       "CORE_COURSE_NAME_2_S         439\n",
       "CORE_COURSE_GRADE_2_S        439\n",
       "CORE_COURSE_NAME_3_S        1038\n",
       "CORE_COURSE_GRADE_3_S       1038\n",
       "CORE_COURSE_NAME_4_S        2045\n",
       "CORE_COURSE_GRADE_4_S       2045\n",
       "CORE_COURSE_NAME_5_S        2950\n",
       "CORE_COURSE_GRADE_5_S       2950\n",
       "CORE_COURSE_NAME_6_S        3319\n",
       "CORE_COURSE_GRADE_6_S       3319\n",
       "HOUSING_STS                    0\n",
       "RETURNED_2ND_YR                0\n",
       "DISTANCE_FROM_HOME            25\n",
       "HIGH_SCHL_GPA                 53\n",
       "HIGH_SCHL_NAME                 1\n",
       "FATHER_HI_EDU_CD             432\n",
       "FATHER_HI_EDU_DESC             0\n",
       "MOTHER_HI_EDU_CD             489\n",
       "MOTHER_HI_EDU_DESC             0\n",
       "DEGREE_GROUP_CD                0\n",
       "DEGREE_GROUP_DESC              0\n",
       "FIRST_TERM_ATTEMPT_HRS         0\n",
       "FIRST_TERM_EARNED_HRS          0\n",
       "SECOND_TERM_ATTEMPT_HRS      206\n",
       "SECOND_TERM_EARNED_HRS       209\n",
       "GROSS_FIN_NEED                 0\n",
       "COST_OF_ATTEND                 0\n",
       "EST_FAM_CONTRIBUTION           0\n",
       "UNMET_NEED                     0\n",
       "dtype: int64"
      ]
     },
     "execution_count": 224,
     "metadata": {},
     "output_type": "execute_result"
    }
   ],
   "source": [
    "df.isnull().sum()\n",
    "# there is considerable amount of missing values. We might have to drop those columns later on"
   ]
  },
  {
   "cell_type": "code",
   "execution_count": 225,
   "metadata": {},
   "outputs": [
    {
     "data": {
      "text/html": [
       "<div>\n",
       "<style scoped>\n",
       "    .dataframe tbody tr th:only-of-type {\n",
       "        vertical-align: middle;\n",
       "    }\n",
       "\n",
       "    .dataframe tbody tr th {\n",
       "        vertical-align: top;\n",
       "    }\n",
       "\n",
       "    .dataframe thead th {\n",
       "        text-align: right;\n",
       "    }\n",
       "</style>\n",
       "<table border=\"1\" class=\"dataframe\">\n",
       "  <thead>\n",
       "    <tr style=\"text-align: right;\">\n",
       "      <th></th>\n",
       "      <th>STUDENT IDENTIFIER</th>\n",
       "      <th>STDNT_AGE</th>\n",
       "      <th>STDNT_TEST_ENTRANCE1</th>\n",
       "      <th>STDNT_TEST_ENTRANCE2</th>\n",
       "      <th>STDNT_TEST_ENTRANCE_COMB</th>\n",
       "      <th>FIRST_TERM</th>\n",
       "      <th>SECOND_TERM</th>\n",
       "      <th>RETURNED_2ND_YR</th>\n",
       "      <th>DISTANCE_FROM_HOME</th>\n",
       "      <th>HIGH_SCHL_GPA</th>\n",
       "      <th>FATHER_HI_EDU_CD</th>\n",
       "      <th>MOTHER_HI_EDU_CD</th>\n",
       "      <th>FIRST_TERM_ATTEMPT_HRS</th>\n",
       "      <th>FIRST_TERM_EARNED_HRS</th>\n",
       "      <th>SECOND_TERM_ATTEMPT_HRS</th>\n",
       "      <th>SECOND_TERM_EARNED_HRS</th>\n",
       "      <th>GROSS_FIN_NEED</th>\n",
       "      <th>COST_OF_ATTEND</th>\n",
       "      <th>EST_FAM_CONTRIBUTION</th>\n",
       "      <th>UNMET_NEED</th>\n",
       "    </tr>\n",
       "  </thead>\n",
       "  <tbody>\n",
       "    <tr>\n",
       "      <th>count</th>\n",
       "      <td>3.400000e+03</td>\n",
       "      <td>3400.000000</td>\n",
       "      <td>1106.000000</td>\n",
       "      <td>2492.000000</td>\n",
       "      <td>2882.000000</td>\n",
       "      <td>3400.000000</td>\n",
       "      <td>3400.000000</td>\n",
       "      <td>3400.000000</td>\n",
       "      <td>3375.000000</td>\n",
       "      <td>3347.000000</td>\n",
       "      <td>2968.000000</td>\n",
       "      <td>2911.000000</td>\n",
       "      <td>3400.000000</td>\n",
       "      <td>3400.000000</td>\n",
       "      <td>3194.000000</td>\n",
       "      <td>3191.000000</td>\n",
       "      <td>3.400000e+03</td>\n",
       "      <td>3.400000e+03</td>\n",
       "      <td>3.400000e+03</td>\n",
       "      <td>3.400000e+03</td>\n",
       "    </tr>\n",
       "    <tr>\n",
       "      <th>mean</th>\n",
       "      <td>7.897155e+06</td>\n",
       "      <td>17.994118</td>\n",
       "      <td>20.660036</td>\n",
       "      <td>965.092295</td>\n",
       "      <td>997.758501</td>\n",
       "      <td>200777.000000</td>\n",
       "      <td>200871.000000</td>\n",
       "      <td>0.787353</td>\n",
       "      <td>99.825185</td>\n",
       "      <td>3.202738</td>\n",
       "      <td>2.560647</td>\n",
       "      <td>2.571281</td>\n",
       "      <td>13.985882</td>\n",
       "      <td>12.205000</td>\n",
       "      <td>14.285848</td>\n",
       "      <td>12.511125</td>\n",
       "      <td>3.034025e+05</td>\n",
       "      <td>5.515335e+05</td>\n",
       "      <td>3.446899e+05</td>\n",
       "      <td>7.222052e+04</td>\n",
       "    </tr>\n",
       "    <tr>\n",
       "      <th>std</th>\n",
       "      <td>8.083421e+04</td>\n",
       "      <td>0.552052</td>\n",
       "      <td>3.234734</td>\n",
       "      <td>209.088633</td>\n",
       "      <td>156.268221</td>\n",
       "      <td>170.001298</td>\n",
       "      <td>170.001298</td>\n",
       "      <td>0.409240</td>\n",
       "      <td>235.196984</td>\n",
       "      <td>0.455337</td>\n",
       "      <td>0.681273</td>\n",
       "      <td>0.611729</td>\n",
       "      <td>1.554286</td>\n",
       "      <td>2.986294</td>\n",
       "      <td>2.104387</td>\n",
       "      <td>3.470492</td>\n",
       "      <td>4.836255e+05</td>\n",
       "      <td>6.064403e+05</td>\n",
       "      <td>7.871878e+05</td>\n",
       "      <td>2.795679e+05</td>\n",
       "    </tr>\n",
       "    <tr>\n",
       "      <th>min</th>\n",
       "      <td>7.755837e+06</td>\n",
       "      <td>16.000000</td>\n",
       "      <td>8.000000</td>\n",
       "      <td>350.000000</td>\n",
       "      <td>530.000000</td>\n",
       "      <td>200508.000000</td>\n",
       "      <td>200602.000000</td>\n",
       "      <td>0.000000</td>\n",
       "      <td>0.000000</td>\n",
       "      <td>0.000000</td>\n",
       "      <td>1.000000</td>\n",
       "      <td>1.000000</td>\n",
       "      <td>9.000000</td>\n",
       "      <td>0.000000</td>\n",
       "      <td>2.000000</td>\n",
       "      <td>0.000000</td>\n",
       "      <td>0.000000e+00</td>\n",
       "      <td>0.000000e+00</td>\n",
       "      <td>0.000000e+00</td>\n",
       "      <td>-1.212072e+06</td>\n",
       "    </tr>\n",
       "    <tr>\n",
       "      <th>25%</th>\n",
       "      <td>7.827039e+06</td>\n",
       "      <td>18.000000</td>\n",
       "      <td>18.000000</td>\n",
       "      <td>900.000000</td>\n",
       "      <td>910.000000</td>\n",
       "      <td>200608.000000</td>\n",
       "      <td>200702.000000</td>\n",
       "      <td>1.000000</td>\n",
       "      <td>69.000000</td>\n",
       "      <td>2.870000</td>\n",
       "      <td>2.000000</td>\n",
       "      <td>2.000000</td>\n",
       "      <td>13.000000</td>\n",
       "      <td>11.000000</td>\n",
       "      <td>13.000000</td>\n",
       "      <td>11.000000</td>\n",
       "      <td>0.000000e+00</td>\n",
       "      <td>0.000000e+00</td>\n",
       "      <td>0.000000e+00</td>\n",
       "      <td>0.000000e+00</td>\n",
       "    </tr>\n",
       "    <tr>\n",
       "      <th>50%</th>\n",
       "      <td>7.899052e+06</td>\n",
       "      <td>18.000000</td>\n",
       "      <td>20.000000</td>\n",
       "      <td>990.000000</td>\n",
       "      <td>990.000000</td>\n",
       "      <td>200808.000000</td>\n",
       "      <td>200902.000000</td>\n",
       "      <td>1.000000</td>\n",
       "      <td>69.000000</td>\n",
       "      <td>3.200000</td>\n",
       "      <td>3.000000</td>\n",
       "      <td>3.000000</td>\n",
       "      <td>14.000000</td>\n",
       "      <td>13.000000</td>\n",
       "      <td>14.000000</td>\n",
       "      <td>13.000000</td>\n",
       "      <td>0.000000e+00</td>\n",
       "      <td>1.505400e+05</td>\n",
       "      <td>0.000000e+00</td>\n",
       "      <td>0.000000e+00</td>\n",
       "    </tr>\n",
       "    <tr>\n",
       "      <th>75%</th>\n",
       "      <td>7.964008e+06</td>\n",
       "      <td>18.000000</td>\n",
       "      <td>22.000000</td>\n",
       "      <td>1100.000000</td>\n",
       "      <td>1110.000000</td>\n",
       "      <td>200908.000000</td>\n",
       "      <td>201002.000000</td>\n",
       "      <td>1.000000</td>\n",
       "      <td>138.000000</td>\n",
       "      <td>3.560000</td>\n",
       "      <td>3.000000</td>\n",
       "      <td>3.000000</td>\n",
       "      <td>15.000000</td>\n",
       "      <td>15.000000</td>\n",
       "      <td>16.000000</td>\n",
       "      <td>15.000000</td>\n",
       "      <td>5.995800e+05</td>\n",
       "      <td>1.192815e+06</td>\n",
       "      <td>3.241800e+05</td>\n",
       "      <td>1.876155e+05</td>\n",
       "    </tr>\n",
       "    <tr>\n",
       "      <th>max</th>\n",
       "      <td>8.037098e+06</td>\n",
       "      <td>26.000000</td>\n",
       "      <td>32.000000</td>\n",
       "      <td>1490.000000</td>\n",
       "      <td>1510.000000</td>\n",
       "      <td>201008.000000</td>\n",
       "      <td>201102.000000</td>\n",
       "      <td>1.000000</td>\n",
       "      <td>5932.000000</td>\n",
       "      <td>4.000000</td>\n",
       "      <td>4.000000</td>\n",
       "      <td>4.000000</td>\n",
       "      <td>21.000000</td>\n",
       "      <td>21.000000</td>\n",
       "      <td>23.000000</td>\n",
       "      <td>23.000000</td>\n",
       "      <td>2.124900e+06</td>\n",
       "      <td>2.124900e+06</td>\n",
       "      <td>5.999940e+06</td>\n",
       "      <td>1.632660e+06</td>\n",
       "    </tr>\n",
       "  </tbody>\n",
       "</table>\n",
       "</div>"
      ],
      "text/plain": [
       "       STUDENT IDENTIFIER    STDNT_AGE  STDNT_TEST_ENTRANCE1  \\\n",
       "count        3.400000e+03  3400.000000           1106.000000   \n",
       "mean         7.897155e+06    17.994118             20.660036   \n",
       "std          8.083421e+04     0.552052              3.234734   \n",
       "min          7.755837e+06    16.000000              8.000000   \n",
       "25%          7.827039e+06    18.000000             18.000000   \n",
       "50%          7.899052e+06    18.000000             20.000000   \n",
       "75%          7.964008e+06    18.000000             22.000000   \n",
       "max          8.037098e+06    26.000000             32.000000   \n",
       "\n",
       "       STDNT_TEST_ENTRANCE2  STDNT_TEST_ENTRANCE_COMB     FIRST_TERM  \\\n",
       "count           2492.000000               2882.000000    3400.000000   \n",
       "mean             965.092295                997.758501  200777.000000   \n",
       "std              209.088633                156.268221     170.001298   \n",
       "min              350.000000                530.000000  200508.000000   \n",
       "25%              900.000000                910.000000  200608.000000   \n",
       "50%              990.000000                990.000000  200808.000000   \n",
       "75%             1100.000000               1110.000000  200908.000000   \n",
       "max             1490.000000               1510.000000  201008.000000   \n",
       "\n",
       "         SECOND_TERM  RETURNED_2ND_YR  DISTANCE_FROM_HOME  HIGH_SCHL_GPA  \\\n",
       "count    3400.000000      3400.000000         3375.000000    3347.000000   \n",
       "mean   200871.000000         0.787353           99.825185       3.202738   \n",
       "std       170.001298         0.409240          235.196984       0.455337   \n",
       "min    200602.000000         0.000000            0.000000       0.000000   \n",
       "25%    200702.000000         1.000000           69.000000       2.870000   \n",
       "50%    200902.000000         1.000000           69.000000       3.200000   \n",
       "75%    201002.000000         1.000000          138.000000       3.560000   \n",
       "max    201102.000000         1.000000         5932.000000       4.000000   \n",
       "\n",
       "       FATHER_HI_EDU_CD  MOTHER_HI_EDU_CD  FIRST_TERM_ATTEMPT_HRS  \\\n",
       "count       2968.000000       2911.000000             3400.000000   \n",
       "mean           2.560647          2.571281               13.985882   \n",
       "std            0.681273          0.611729                1.554286   \n",
       "min            1.000000          1.000000                9.000000   \n",
       "25%            2.000000          2.000000               13.000000   \n",
       "50%            3.000000          3.000000               14.000000   \n",
       "75%            3.000000          3.000000               15.000000   \n",
       "max            4.000000          4.000000               21.000000   \n",
       "\n",
       "       FIRST_TERM_EARNED_HRS  SECOND_TERM_ATTEMPT_HRS  SECOND_TERM_EARNED_HRS  \\\n",
       "count            3400.000000              3194.000000             3191.000000   \n",
       "mean               12.205000                14.285848               12.511125   \n",
       "std                 2.986294                 2.104387                3.470492   \n",
       "min                 0.000000                 2.000000                0.000000   \n",
       "25%                11.000000                13.000000               11.000000   \n",
       "50%                13.000000                14.000000               13.000000   \n",
       "75%                15.000000                16.000000               15.000000   \n",
       "max                21.000000                23.000000               23.000000   \n",
       "\n",
       "       GROSS_FIN_NEED  COST_OF_ATTEND  EST_FAM_CONTRIBUTION    UNMET_NEED  \n",
       "count    3.400000e+03    3.400000e+03          3.400000e+03  3.400000e+03  \n",
       "mean     3.034025e+05    5.515335e+05          3.446899e+05  7.222052e+04  \n",
       "std      4.836255e+05    6.064403e+05          7.871878e+05  2.795679e+05  \n",
       "min      0.000000e+00    0.000000e+00          0.000000e+00 -1.212072e+06  \n",
       "25%      0.000000e+00    0.000000e+00          0.000000e+00  0.000000e+00  \n",
       "50%      0.000000e+00    1.505400e+05          0.000000e+00  0.000000e+00  \n",
       "75%      5.995800e+05    1.192815e+06          3.241800e+05  1.876155e+05  \n",
       "max      2.124900e+06    2.124900e+06          5.999940e+06  1.632660e+06  "
      ]
     },
     "execution_count": 225,
     "metadata": {},
     "output_type": "execute_result"
    }
   ],
   "source": [
    "df.describe()"
   ]
  },
  {
   "cell_type": "code",
   "execution_count": 226,
   "metadata": {},
   "outputs": [
    {
     "data": {
      "text/plain": [
       "1    2677\n",
       "0     723\n",
       "Name: RETURNED_2ND_YR, dtype: int64"
      ]
     },
     "execution_count": 226,
     "metadata": {},
     "output_type": "execute_result"
    }
   ],
   "source": [
    "df['RETURNED_2ND_YR'].value_counts()"
   ]
  },
  {
   "cell_type": "code",
   "execution_count": 227,
   "metadata": {},
   "outputs": [
    {
     "data": {
      "text/plain": [
       "1    78.735294\n",
       "0    21.264706\n",
       "Name: Target, dtype: float64"
      ]
     },
     "execution_count": 227,
     "metadata": {},
     "output_type": "execute_result"
    }
   ],
   "source": [
    "# Renaming target feature\n",
    "df['Target'] = df['RETURNED_2ND_YR']\n",
    "df.drop('RETURNED_2ND_YR',axis=1,inplace=True)\n",
    "\n",
    "df['Target'].value_counts(normalize=True)*100\n",
    "# It is an imbalanced data"
   ]
  },
  {
   "cell_type": "code",
   "execution_count": 228,
   "metadata": {},
   "outputs": [
    {
     "data": {
      "text/plain": [
       "0    2677\n",
       "1     723\n",
       "Name: Target, dtype: int64"
      ]
     },
     "execution_count": 228,
     "metadata": {},
     "output_type": "execute_result"
    }
   ],
   "source": [
    "# Swapping 1&0 in Target so 1 represents students who discontinued \n",
    "df['Target'] = df['Target'].map(lambda x: 0 if x==1 else 1)\n",
    "df['Target'].value_counts()"
   ]
  },
  {
   "cell_type": "markdown",
   "metadata": {},
   "source": [
    "# EDA\n",
    "## Target "
   ]
  },
  {
   "cell_type": "code",
   "execution_count": 229,
   "metadata": {},
   "outputs": [
    {
     "data": {
      "text/plain": [
       "0    78.735294\n",
       "1    21.264706\n",
       "Name: Target, dtype: float64"
      ]
     },
     "execution_count": 229,
     "metadata": {},
     "output_type": "execute_result"
    }
   ],
   "source": [
    "# Imbalanced target\n",
    "df['Target'].value_counts(normalize=True)*100"
   ]
  },
  {
   "cell_type": "code",
   "execution_count": 230,
   "metadata": {},
   "outputs": [
    {
     "data": {
      "text/plain": [
       "Text(0.5, 1.0, 'Bar plot')"
      ]
     },
     "execution_count": 230,
     "metadata": {},
     "output_type": "execute_result"
    },
    {
     "data": {
      "image/png": "[encoded data removed]",
      "text/plain": [
       "<Figure size 576x360 with 1 Axes>"
      ]
     },
     "metadata": {
      "needs_background": "light"
     },
     "output_type": "display_data"
    }
   ],
   "source": [
    "plt.figure(figsize=(8,5))\n",
    "\n",
    "sns.countplot(data=df,x='Target')\n",
    "plt.title('Bar plot')\n",
    "# We may need to synthetically balance the dataset."
   ]
  },
  {
   "cell_type": "markdown",
   "metadata": {},
   "source": [
    "## Student identifier"
   ]
  },
  {
   "cell_type": "code",
   "execution_count": 231,
   "metadata": {},
   "outputs": [
    {
     "data": {
      "text/plain": [
       "3400"
      ]
     },
     "execution_count": 231,
     "metadata": {},
     "output_type": "execute_result"
    }
   ],
   "source": [
    "df['STUDENT IDENTIFIER'].nunique()\n",
    "# insignificant variable"
   ]
  },
  {
   "cell_type": "markdown",
   "metadata": {},
   "source": [
    "## Student age"
   ]
  },
  {
   "cell_type": "code",
   "execution_count": 232,
   "metadata": {},
   "outputs": [
    {
     "data": {
      "text/plain": [
       "count    3400.000000\n",
       "mean       17.994118\n",
       "std         0.552052\n",
       "min        16.000000\n",
       "25%        18.000000\n",
       "50%        18.000000\n",
       "75%        18.000000\n",
       "max        26.000000\n",
       "Name: STDNT_AGE, dtype: float64"
      ]
     },
     "execution_count": 232,
     "metadata": {},
     "output_type": "execute_result"
    }
   ],
   "source": [
    "df['STDNT_AGE'].describe()\n",
    "# IQR method will not be possible as Q1,Q2,Q3 are all the same"
   ]
  },
  {
   "cell_type": "code",
   "execution_count": 233,
   "metadata": {},
   "outputs": [
    {
     "data": {
      "text/plain": [
       "<seaborn.axisgrid.FacetGrid at 0x1a4cdfdf970>"
      ]
     },
     "execution_count": 233,
     "metadata": {},
     "output_type": "execute_result"
    },
    {
     "data": {
      "image/png": "[encoded data removed]",
      "text/plain": [
       "<Figure size 360x360 with 1 Axes>"
      ]
     },
     "metadata": {
      "needs_background": "light"
     },
     "output_type": "display_data"
    }
   ],
   "source": [
    "sns.displot(data=df,x='STDNT_AGE',kde=True)"
   ]
  },
  {
   "cell_type": "code",
   "execution_count": 234,
   "metadata": {},
   "outputs": [
    {
     "data": {
      "text/plain": [
       "Text(0.5, 1.0, 'Count of age group w.r.t attrition')"
      ]
     },
     "execution_count": 234,
     "metadata": {},
     "output_type": "execute_result"
    },
    {
     "data": {
      "image/png": "[encoded data removed]",
      "text/plain": [
       "<Figure size 576x360 with 1 Axes>"
      ]
     },
     "metadata": {
      "needs_background": "light"
     },
     "output_type": "display_data"
    }
   ],
   "source": [
    "plt.figure(figsize=(8,5))\n",
    "\n",
    "sns.histplot(data=df,x='STDNT_AGE',hue='Target',binwidth=1)\n",
    "plt.xticks(ticks=np.arange(16.5,27.5,1),labels=np.arange(16,27))\n",
    "plt.title('Count of age group w.r.t attrition')"
   ]
  },
  {
   "cell_type": "code",
   "execution_count": 235,
   "metadata": {},
   "outputs": [
    {
     "data": {
      "text/plain": [
       "<AxesSubplot:xlabel='STDNT_AGE'>"
      ]
     },
     "execution_count": 235,
     "metadata": {},
     "output_type": "execute_result"
    },
    {
     "data": {
      "image/png": "[encoded data removed]",
      "text/plain": [
       "<Figure size 432x288 with 1 Axes>"
      ]
     },
     "metadata": {
      "needs_background": "light"
     },
     "output_type": "display_data"
    }
   ],
   "source": [
    "# outliers in age group \n",
    "sns.boxplot(x=df['STDNT_AGE'])"
   ]
  },
  {
   "cell_type": "code",
   "execution_count": 236,
   "metadata": {},
   "outputs": [
    {
     "data": {
      "text/plain": [
       "18    2860\n",
       "17     309\n",
       "19     190\n",
       "20      14\n",
       "16       8\n",
       "21       7\n",
       "22       4\n",
       "23       3\n",
       "25       3\n",
       "24       1\n",
       "26       1\n",
       "Name: STDNT_AGE, dtype: int64"
      ]
     },
     "execution_count": 236,
     "metadata": {},
     "output_type": "execute_result"
    }
   ],
   "source": [
    "df['STDNT_AGE'].value_counts()"
   ]
  },
  {
   "cell_type": "markdown",
   "metadata": {},
   "source": [
    "## Student gender"
   ]
  },
  {
   "cell_type": "code",
   "execution_count": 237,
   "metadata": {},
   "outputs": [
    {
     "data": {
      "text/plain": [
       "F    2140\n",
       "M    1260\n",
       "Name: STDNT_GENDER, dtype: int64"
      ]
     },
     "execution_count": 237,
     "metadata": {},
     "output_type": "execute_result"
    }
   ],
   "source": [
    "df['STDNT_GENDER'].value_counts()"
   ]
  },
  {
   "cell_type": "code",
   "execution_count": 238,
   "metadata": {},
   "outputs": [
    {
     "data": {
      "text/plain": [
       "F    62.941176\n",
       "M    37.058824\n",
       "Name: STDNT_GENDER, dtype: float64"
      ]
     },
     "execution_count": 238,
     "metadata": {},
     "output_type": "execute_result"
    }
   ],
   "source": [
    "df['STDNT_GENDER'].value_counts(normalize=True)*100\n",
    "# Female students are greater than male students"
   ]
  },
  {
   "cell_type": "code",
   "execution_count": 239,
   "metadata": {},
   "outputs": [
    {
     "data": {
      "text/plain": [
       "<AxesSubplot:xlabel='STDNT_GENDER', ylabel='count'>"
      ]
     },
     "execution_count": 239,
     "metadata": {},
     "output_type": "execute_result"
    },
    {
     "data": {
      "image/png": "[encoded data removed]",
      "text/plain": [
       "<Figure size 576x360 with 1 Axes>"
      ]
     },
     "metadata": {
      "needs_background": "light"
     },
     "output_type": "display_data"
    }
   ],
   "source": [
    "plt.figure(figsize=(8,5))\n",
    "\n",
    "sns.countplot(data=df,x='STDNT_GENDER',hue='Target')\n",
    "\n",
    "# Females tend to attrite more than males"
   ]
  },
  {
   "cell_type": "markdown",
   "metadata": {},
   "source": [
    "## Student Background"
   ]
  },
  {
   "cell_type": "code",
   "execution_count": 240,
   "metadata": {},
   "outputs": [
    {
     "data": {
      "text/plain": [
       "BGD 1    2082\n",
       "BGD 3     947\n",
       "BGD 4     139\n",
       "BGD 2     106\n",
       "BGD 6      94\n",
       "BGD 7      19\n",
       "BGD 5       8\n",
       "BGD 8       5\n",
       "Name: STDNT_BACKGROUND, dtype: int64"
      ]
     },
     "execution_count": 240,
     "metadata": {},
     "output_type": "execute_result"
    }
   ],
   "source": [
    "df['STDNT_BACKGROUND'].value_counts()\n",
    "# Most of them are from BGD 1"
   ]
  },
  {
   "cell_type": "code",
   "execution_count": 241,
   "metadata": {},
   "outputs": [
    {
     "data": {
      "text/html": [
       "<div>\n",
       "<style scoped>\n",
       "    .dataframe tbody tr th:only-of-type {\n",
       "        vertical-align: middle;\n",
       "    }\n",
       "\n",
       "    .dataframe tbody tr th {\n",
       "        vertical-align: top;\n",
       "    }\n",
       "\n",
       "    .dataframe thead th {\n",
       "        text-align: right;\n",
       "    }\n",
       "</style>\n",
       "<table border=\"1\" class=\"dataframe\">\n",
       "  <thead>\n",
       "    <tr style=\"text-align: right;\">\n",
       "      <th>Target</th>\n",
       "      <th>0</th>\n",
       "      <th>1</th>\n",
       "    </tr>\n",
       "    <tr>\n",
       "      <th>STDNT_BACKGROUND</th>\n",
       "      <th></th>\n",
       "      <th></th>\n",
       "    </tr>\n",
       "  </thead>\n",
       "  <tbody>\n",
       "    <tr>\n",
       "      <th>BGD 1</th>\n",
       "      <td>0.770893</td>\n",
       "      <td>0.229107</td>\n",
       "    </tr>\n",
       "    <tr>\n",
       "      <th>BGD 2</th>\n",
       "      <td>0.773585</td>\n",
       "      <td>0.226415</td>\n",
       "    </tr>\n",
       "    <tr>\n",
       "      <th>BGD 3</th>\n",
       "      <td>0.820486</td>\n",
       "      <td>0.179514</td>\n",
       "    </tr>\n",
       "    <tr>\n",
       "      <th>BGD 4</th>\n",
       "      <td>0.812950</td>\n",
       "      <td>0.187050</td>\n",
       "    </tr>\n",
       "    <tr>\n",
       "      <th>BGD 5</th>\n",
       "      <td>0.500000</td>\n",
       "      <td>0.500000</td>\n",
       "    </tr>\n",
       "    <tr>\n",
       "      <th>BGD 6</th>\n",
       "      <td>0.851064</td>\n",
       "      <td>0.148936</td>\n",
       "    </tr>\n",
       "    <tr>\n",
       "      <th>BGD 7</th>\n",
       "      <td>0.631579</td>\n",
       "      <td>0.368421</td>\n",
       "    </tr>\n",
       "    <tr>\n",
       "      <th>BGD 8</th>\n",
       "      <td>0.800000</td>\n",
       "      <td>0.200000</td>\n",
       "    </tr>\n",
       "  </tbody>\n",
       "</table>\n",
       "</div>"
      ],
      "text/plain": [
       "Target                   0         1\n",
       "STDNT_BACKGROUND                    \n",
       "BGD 1             0.770893  0.229107\n",
       "BGD 2             0.773585  0.226415\n",
       "BGD 3             0.820486  0.179514\n",
       "BGD 4             0.812950  0.187050\n",
       "BGD 5             0.500000  0.500000\n",
       "BGD 6             0.851064  0.148936\n",
       "BGD 7             0.631579  0.368421\n",
       "BGD 8             0.800000  0.200000"
      ]
     },
     "execution_count": 241,
     "metadata": {},
     "output_type": "execute_result"
    }
   ],
   "source": [
    "pd.crosstab(index=df['STDNT_BACKGROUND'],columns=df['Target'],normalize='index')\n",
    "# Students from BGD 5 have equal chance of attrition, however we cannot confirm this since the available data is very low"
   ]
  },
  {
   "cell_type": "code",
   "execution_count": 242,
   "metadata": {},
   "outputs": [
    {
     "data": {
      "text/plain": [
       "<AxesSubplot:xlabel='STDNT_BACKGROUND', ylabel='count'>"
      ]
     },
     "execution_count": 242,
     "metadata": {},
     "output_type": "execute_result"
    },
    {
     "data": {
      "image/png": "[encoded data removed]",
      "text/plain": [
       "<Figure size 720x360 with 1 Axes>"
      ]
     },
     "metadata": {
      "needs_background": "light"
     },
     "output_type": "display_data"
    }
   ],
   "source": [
    "plt.figure(figsize=(10,5))\n",
    "\n",
    "sns.countplot(data=df,x='STDNT_BACKGROUND',hue=df['Target'])\n",
    "\n",
    "# lot of students are from BGD1, attrition is also more in BGD 1"
   ]
  },
  {
   "cell_type": "markdown",
   "metadata": {},
   "source": [
    "## IN_STATE_FLAG"
   ]
  },
  {
   "cell_type": "code",
   "execution_count": 243,
   "metadata": {},
   "outputs": [
    {
     "data": {
      "text/plain": [
       "Y    3063\n",
       "N     337\n",
       "Name: IN_STATE_FLAG, dtype: int64"
      ]
     },
     "execution_count": 243,
     "metadata": {},
     "output_type": "execute_result"
    }
   ],
   "source": [
    "df['IN_STATE_FLAG'].value_counts()\n",
    "# Most of the students are from the same state as university, naturally."
   ]
  },
  {
   "cell_type": "code",
   "execution_count": 244,
   "metadata": {},
   "outputs": [
    {
     "data": {
      "text/html": [
       "<div>\n",
       "<style scoped>\n",
       "    .dataframe tbody tr th:only-of-type {\n",
       "        vertical-align: middle;\n",
       "    }\n",
       "\n",
       "    .dataframe tbody tr th {\n",
       "        vertical-align: top;\n",
       "    }\n",
       "\n",
       "    .dataframe thead th {\n",
       "        text-align: right;\n",
       "    }\n",
       "</style>\n",
       "<table border=\"1\" class=\"dataframe\">\n",
       "  <thead>\n",
       "    <tr style=\"text-align: right;\">\n",
       "      <th>Target</th>\n",
       "      <th>0</th>\n",
       "      <th>1</th>\n",
       "    </tr>\n",
       "    <tr>\n",
       "      <th>IN_STATE_FLAG</th>\n",
       "      <th></th>\n",
       "      <th></th>\n",
       "    </tr>\n",
       "  </thead>\n",
       "  <tbody>\n",
       "    <tr>\n",
       "      <th>N</th>\n",
       "      <td>0.735905</td>\n",
       "      <td>0.264095</td>\n",
       "    </tr>\n",
       "    <tr>\n",
       "      <th>Y</th>\n",
       "      <td>0.793013</td>\n",
       "      <td>0.206987</td>\n",
       "    </tr>\n",
       "  </tbody>\n",
       "</table>\n",
       "</div>"
      ],
      "text/plain": [
       "Target                0         1\n",
       "IN_STATE_FLAG                    \n",
       "N              0.735905  0.264095\n",
       "Y              0.793013  0.206987"
      ]
     },
     "execution_count": 244,
     "metadata": {},
     "output_type": "execute_result"
    }
   ],
   "source": [
    "pd.crosstab(df['IN_STATE_FLAG'],df['Target'],normalize='index')\n",
    "# Students attrited proportionally in or outside the state"
   ]
  },
  {
   "cell_type": "markdown",
   "metadata": {},
   "source": [
    "## International status"
   ]
  },
  {
   "cell_type": "code",
   "execution_count": 245,
   "metadata": {},
   "outputs": [
    {
     "data": {
      "text/plain": [
       "N    99.205882\n",
       "Y     0.794118\n",
       "Name: INTERNATIONAL_STS, dtype: float64"
      ]
     },
     "execution_count": 245,
     "metadata": {},
     "output_type": "execute_result"
    }
   ],
   "source": [
    "df['INTERNATIONAL_STS'].value_counts(normalize=True)*100\n",
    "# Very slim number of students are international"
   ]
  },
  {
   "cell_type": "code",
   "execution_count": 246,
   "metadata": {},
   "outputs": [
    {
     "data": {
      "text/html": [
       "<div>\n",
       "<style scoped>\n",
       "    .dataframe tbody tr th:only-of-type {\n",
       "        vertical-align: middle;\n",
       "    }\n",
       "\n",
       "    .dataframe tbody tr th {\n",
       "        vertical-align: top;\n",
       "    }\n",
       "\n",
       "    .dataframe thead th {\n",
       "        text-align: right;\n",
       "    }\n",
       "</style>\n",
       "<table border=\"1\" class=\"dataframe\">\n",
       "  <thead>\n",
       "    <tr style=\"text-align: right;\">\n",
       "      <th>Target</th>\n",
       "      <th>0</th>\n",
       "      <th>1</th>\n",
       "    </tr>\n",
       "    <tr>\n",
       "      <th>INTERNATIONAL_STS</th>\n",
       "      <th></th>\n",
       "      <th></th>\n",
       "    </tr>\n",
       "  </thead>\n",
       "  <tbody>\n",
       "    <tr>\n",
       "      <th>N</th>\n",
       "      <td>0.789208</td>\n",
       "      <td>0.210792</td>\n",
       "    </tr>\n",
       "    <tr>\n",
       "      <th>Y</th>\n",
       "      <td>0.555556</td>\n",
       "      <td>0.444444</td>\n",
       "    </tr>\n",
       "  </tbody>\n",
       "</table>\n",
       "</div>"
      ],
      "text/plain": [
       "Target                    0         1\n",
       "INTERNATIONAL_STS                    \n",
       "N                  0.789208  0.210792\n",
       "Y                  0.555556  0.444444"
      ]
     },
     "execution_count": 246,
     "metadata": {},
     "output_type": "execute_result"
    }
   ],
   "source": [
    "pd.crosstab(df['INTERNATIONAL_STS'],df['Target'],normalize='index')"
   ]
  },
  {
   "cell_type": "code",
   "execution_count": 247,
   "metadata": {},
   "outputs": [
    {
     "data": {
      "text/plain": [
       "Text(0.5, 1.0, 'count of int students w.r.t attrition')"
      ]
     },
     "execution_count": 247,
     "metadata": {},
     "output_type": "execute_result"
    },
    {
     "data": {
      "image/png": "[encoded data removed]",
      "text/plain": [
       "<Figure size 576x360 with 1 Axes>"
      ]
     },
     "metadata": {
      "needs_background": "light"
     },
     "output_type": "display_data"
    }
   ],
   "source": [
    "plt.figure(figsize=(8,5))\n",
    "\n",
    "sns.countplot(data=df,x='INTERNATIONAL_STS',hue='Target')\n",
    "plt.title('count of int students w.r.t attrition')\n",
    "# Many are from the state and many have left the course\n",
    "# This variable may be insignificant due to the very low number of international students"
   ]
  },
  {
   "cell_type": "markdown",
   "metadata": {},
   "source": [
    "## Student major"
   ]
  },
  {
   "cell_type": "code",
   "execution_count": 248,
   "metadata": {},
   "outputs": [
    {
     "data": {
      "text/plain": [
       "Undeclared                        460\n",
       "Biology                           362\n",
       "Early Childhood Education         190\n",
       "Pre-Nursing                       177\n",
       "Nursing                           164\n",
       "Psychology                        155\n",
       "Pre-Business                      133\n",
       "Theatre Arts                      131\n",
       "Music Performance                  99\n",
       "Criminal Justice                   98\n",
       "Music Education                    96\n",
       "General Business                   85\n",
       "Exercise Science                   81\n",
       "Art                                75\n",
       "Management                         72\n",
       "Communication                      70\n",
       "Political Science                  64\n",
       "Chemistry                          64\n",
       "English Language/Literature        60\n",
       "Engineering Studies                60\n",
       "Marketing                          59\n",
       "Computer Science - Systems         58\n",
       "Accounting                         54\n",
       "Health Science                     48\n",
       "Computer Science - Games           40\n",
       "Joint Enrollment - Accel           35\n",
       "History                            33\n",
       "Applied Computer Science           32\n",
       "Theatre Education                  29\n",
       "English and Secondary Ed           28\n",
       "History and Secondary Ed           27\n",
       "Pre-Engineering/RETP               27\n",
       "Mathematics                        26\n",
       "Finance                            24\n",
       "Management Information Systems     21\n",
       "Sociology                          20\n",
       "Health and Physical Education      20\n",
       "Music                              17\n",
       "Middle Grades Education            17\n",
       "Spec Ed: Gen. Curr. - Reading      13\n",
       "General Studies/AS                 12\n",
       "Mathematics and Secondary Ed       11\n",
       "Information Technology             10\n",
       "Art Education                       9\n",
       "Biology and Secondary Ed            5\n",
       "Spanish                             5\n",
       "French                              4\n",
       "Spanish with Teacher Cert           4\n",
       "French with Teacher Cert            4\n",
       "Geology                             4\n",
       "Early Admission - Accel             3\n",
       "Earth and Space Science             2\n",
       "Chemistry and Secondary Ed          2\n",
       "Liberal Arts                        1\n",
       "Name: STDNT_MAJOR, dtype: int64"
      ]
     },
     "execution_count": 248,
     "metadata": {},
     "output_type": "execute_result"
    }
   ],
   "source": [
    "df['STDNT_MAJOR'].value_counts()\n",
    "# Many of the students have not declared their majors"
   ]
  },
  {
   "cell_type": "code",
   "execution_count": 249,
   "metadata": {},
   "outputs": [
    {
     "data": {
      "text/html": [
       "<div>\n",
       "<style scoped>\n",
       "    .dataframe tbody tr th:only-of-type {\n",
       "        vertical-align: middle;\n",
       "    }\n",
       "\n",
       "    .dataframe tbody tr th {\n",
       "        vertical-align: top;\n",
       "    }\n",
       "\n",
       "    .dataframe thead th {\n",
       "        text-align: right;\n",
       "    }\n",
       "</style>\n",
       "<table border=\"1\" class=\"dataframe\">\n",
       "  <thead>\n",
       "    <tr style=\"text-align: right;\">\n",
       "      <th>Target</th>\n",
       "      <th>0</th>\n",
       "      <th>1</th>\n",
       "    </tr>\n",
       "    <tr>\n",
       "      <th>STDNT_MAJOR</th>\n",
       "      <th></th>\n",
       "      <th></th>\n",
       "    </tr>\n",
       "  </thead>\n",
       "  <tbody>\n",
       "    <tr>\n",
       "      <th>Accounting</th>\n",
       "      <td>42</td>\n",
       "      <td>12</td>\n",
       "    </tr>\n",
       "    <tr>\n",
       "      <th>Applied Computer Science</th>\n",
       "      <td>27</td>\n",
       "      <td>5</td>\n",
       "    </tr>\n",
       "    <tr>\n",
       "      <th>Art</th>\n",
       "      <td>57</td>\n",
       "      <td>18</td>\n",
       "    </tr>\n",
       "    <tr>\n",
       "      <th>Art Education</th>\n",
       "      <td>7</td>\n",
       "      <td>2</td>\n",
       "    </tr>\n",
       "    <tr>\n",
       "      <th>Biology</th>\n",
       "      <td>280</td>\n",
       "      <td>82</td>\n",
       "    </tr>\n",
       "    <tr>\n",
       "      <th>Biology and Secondary Ed</th>\n",
       "      <td>2</td>\n",
       "      <td>3</td>\n",
       "    </tr>\n",
       "    <tr>\n",
       "      <th>Chemistry</th>\n",
       "      <td>54</td>\n",
       "      <td>10</td>\n",
       "    </tr>\n",
       "    <tr>\n",
       "      <th>Chemistry and Secondary Ed</th>\n",
       "      <td>2</td>\n",
       "      <td>0</td>\n",
       "    </tr>\n",
       "    <tr>\n",
       "      <th>Communication</th>\n",
       "      <td>56</td>\n",
       "      <td>14</td>\n",
       "    </tr>\n",
       "    <tr>\n",
       "      <th>Computer Science - Games</th>\n",
       "      <td>26</td>\n",
       "      <td>14</td>\n",
       "    </tr>\n",
       "    <tr>\n",
       "      <th>Computer Science - Systems</th>\n",
       "      <td>49</td>\n",
       "      <td>9</td>\n",
       "    </tr>\n",
       "    <tr>\n",
       "      <th>Criminal Justice</th>\n",
       "      <td>69</td>\n",
       "      <td>29</td>\n",
       "    </tr>\n",
       "    <tr>\n",
       "      <th>Early Admission - Accel</th>\n",
       "      <td>3</td>\n",
       "      <td>0</td>\n",
       "    </tr>\n",
       "    <tr>\n",
       "      <th>Early Childhood Education</th>\n",
       "      <td>153</td>\n",
       "      <td>37</td>\n",
       "    </tr>\n",
       "    <tr>\n",
       "      <th>Earth and Space Science</th>\n",
       "      <td>1</td>\n",
       "      <td>1</td>\n",
       "    </tr>\n",
       "    <tr>\n",
       "      <th>Engineering Studies</th>\n",
       "      <td>45</td>\n",
       "      <td>15</td>\n",
       "    </tr>\n",
       "    <tr>\n",
       "      <th>English Language/Literature</th>\n",
       "      <td>51</td>\n",
       "      <td>9</td>\n",
       "    </tr>\n",
       "    <tr>\n",
       "      <th>English and Secondary Ed</th>\n",
       "      <td>24</td>\n",
       "      <td>4</td>\n",
       "    </tr>\n",
       "    <tr>\n",
       "      <th>Exercise Science</th>\n",
       "      <td>62</td>\n",
       "      <td>19</td>\n",
       "    </tr>\n",
       "    <tr>\n",
       "      <th>Finance</th>\n",
       "      <td>16</td>\n",
       "      <td>8</td>\n",
       "    </tr>\n",
       "    <tr>\n",
       "      <th>French</th>\n",
       "      <td>3</td>\n",
       "      <td>1</td>\n",
       "    </tr>\n",
       "    <tr>\n",
       "      <th>French with Teacher Cert</th>\n",
       "      <td>3</td>\n",
       "      <td>1</td>\n",
       "    </tr>\n",
       "    <tr>\n",
       "      <th>General Business</th>\n",
       "      <td>73</td>\n",
       "      <td>12</td>\n",
       "    </tr>\n",
       "    <tr>\n",
       "      <th>General Studies/AS</th>\n",
       "      <td>10</td>\n",
       "      <td>2</td>\n",
       "    </tr>\n",
       "    <tr>\n",
       "      <th>Geology</th>\n",
       "      <td>4</td>\n",
       "      <td>0</td>\n",
       "    </tr>\n",
       "    <tr>\n",
       "      <th>Health Science</th>\n",
       "      <td>42</td>\n",
       "      <td>6</td>\n",
       "    </tr>\n",
       "    <tr>\n",
       "      <th>Health and Physical Education</th>\n",
       "      <td>15</td>\n",
       "      <td>5</td>\n",
       "    </tr>\n",
       "    <tr>\n",
       "      <th>History</th>\n",
       "      <td>25</td>\n",
       "      <td>8</td>\n",
       "    </tr>\n",
       "    <tr>\n",
       "      <th>History and Secondary Ed</th>\n",
       "      <td>20</td>\n",
       "      <td>7</td>\n",
       "    </tr>\n",
       "    <tr>\n",
       "      <th>Information Technology</th>\n",
       "      <td>7</td>\n",
       "      <td>3</td>\n",
       "    </tr>\n",
       "    <tr>\n",
       "      <th>Joint Enrollment - Accel</th>\n",
       "      <td>35</td>\n",
       "      <td>0</td>\n",
       "    </tr>\n",
       "    <tr>\n",
       "      <th>Liberal Arts</th>\n",
       "      <td>1</td>\n",
       "      <td>0</td>\n",
       "    </tr>\n",
       "    <tr>\n",
       "      <th>Management</th>\n",
       "      <td>57</td>\n",
       "      <td>15</td>\n",
       "    </tr>\n",
       "    <tr>\n",
       "      <th>Management Information Systems</th>\n",
       "      <td>14</td>\n",
       "      <td>7</td>\n",
       "    </tr>\n",
       "    <tr>\n",
       "      <th>Marketing</th>\n",
       "      <td>44</td>\n",
       "      <td>15</td>\n",
       "    </tr>\n",
       "    <tr>\n",
       "      <th>Mathematics</th>\n",
       "      <td>20</td>\n",
       "      <td>6</td>\n",
       "    </tr>\n",
       "    <tr>\n",
       "      <th>Mathematics and Secondary Ed</th>\n",
       "      <td>10</td>\n",
       "      <td>1</td>\n",
       "    </tr>\n",
       "    <tr>\n",
       "      <th>Middle Grades Education</th>\n",
       "      <td>14</td>\n",
       "      <td>3</td>\n",
       "    </tr>\n",
       "    <tr>\n",
       "      <th>Music</th>\n",
       "      <td>11</td>\n",
       "      <td>6</td>\n",
       "    </tr>\n",
       "    <tr>\n",
       "      <th>Music Education</th>\n",
       "      <td>88</td>\n",
       "      <td>8</td>\n",
       "    </tr>\n",
       "    <tr>\n",
       "      <th>Music Performance</th>\n",
       "      <td>87</td>\n",
       "      <td>12</td>\n",
       "    </tr>\n",
       "    <tr>\n",
       "      <th>Nursing</th>\n",
       "      <td>127</td>\n",
       "      <td>37</td>\n",
       "    </tr>\n",
       "    <tr>\n",
       "      <th>Political Science</th>\n",
       "      <td>50</td>\n",
       "      <td>14</td>\n",
       "    </tr>\n",
       "    <tr>\n",
       "      <th>Pre-Business</th>\n",
       "      <td>101</td>\n",
       "      <td>32</td>\n",
       "    </tr>\n",
       "    <tr>\n",
       "      <th>Pre-Engineering/RETP</th>\n",
       "      <td>20</td>\n",
       "      <td>7</td>\n",
       "    </tr>\n",
       "    <tr>\n",
       "      <th>Pre-Nursing</th>\n",
       "      <td>130</td>\n",
       "      <td>47</td>\n",
       "    </tr>\n",
       "    <tr>\n",
       "      <th>Psychology</th>\n",
       "      <td>112</td>\n",
       "      <td>43</td>\n",
       "    </tr>\n",
       "    <tr>\n",
       "      <th>Sociology</th>\n",
       "      <td>16</td>\n",
       "      <td>4</td>\n",
       "    </tr>\n",
       "    <tr>\n",
       "      <th>Spanish</th>\n",
       "      <td>5</td>\n",
       "      <td>0</td>\n",
       "    </tr>\n",
       "    <tr>\n",
       "      <th>Spanish with Teacher Cert</th>\n",
       "      <td>3</td>\n",
       "      <td>1</td>\n",
       "    </tr>\n",
       "    <tr>\n",
       "      <th>Spec Ed: Gen. Curr. - Reading</th>\n",
       "      <td>10</td>\n",
       "      <td>3</td>\n",
       "    </tr>\n",
       "    <tr>\n",
       "      <th>Theatre Arts</th>\n",
       "      <td>119</td>\n",
       "      <td>12</td>\n",
       "    </tr>\n",
       "    <tr>\n",
       "      <th>Theatre Education</th>\n",
       "      <td>26</td>\n",
       "      <td>3</td>\n",
       "    </tr>\n",
       "    <tr>\n",
       "      <th>Undeclared</th>\n",
       "      <td>349</td>\n",
       "      <td>111</td>\n",
       "    </tr>\n",
       "  </tbody>\n",
       "</table>\n",
       "</div>"
      ],
      "text/plain": [
       "Target                            0    1\n",
       "STDNT_MAJOR                             \n",
       "Accounting                       42   12\n",
       "Applied Computer Science         27    5\n",
       "Art                              57   18\n",
       "Art Education                     7    2\n",
       "Biology                         280   82\n",
       "Biology and Secondary Ed          2    3\n",
       "Chemistry                        54   10\n",
       "Chemistry and Secondary Ed        2    0\n",
       "Communication                    56   14\n",
       "Computer Science - Games         26   14\n",
       "Computer Science - Systems       49    9\n",
       "Criminal Justice                 69   29\n",
       "Early Admission - Accel           3    0\n",
       "Early Childhood Education       153   37\n",
       "Earth and Space Science           1    1\n",
       "Engineering Studies              45   15\n",
       "English Language/Literature      51    9\n",
       "English and Secondary Ed         24    4\n",
       "Exercise Science                 62   19\n",
       "Finance                          16    8\n",
       "French                            3    1\n",
       "French with Teacher Cert          3    1\n",
       "General Business                 73   12\n",
       "General Studies/AS               10    2\n",
       "Geology                           4    0\n",
       "Health Science                   42    6\n",
       "Health and Physical Education    15    5\n",
       "History                          25    8\n",
       "History and Secondary Ed         20    7\n",
       "Information Technology            7    3\n",
       "Joint Enrollment - Accel         35    0\n",
       "Liberal Arts                      1    0\n",
       "Management                       57   15\n",
       "Management Information Systems   14    7\n",
       "Marketing                        44   15\n",
       "Mathematics                      20    6\n",
       "Mathematics and Secondary Ed     10    1\n",
       "Middle Grades Education          14    3\n",
       "Music                            11    6\n",
       "Music Education                  88    8\n",
       "Music Performance                87   12\n",
       "Nursing                         127   37\n",
       "Political Science                50   14\n",
       "Pre-Business                    101   32\n",
       "Pre-Engineering/RETP             20    7\n",
       "Pre-Nursing                     130   47\n",
       "Psychology                      112   43\n",
       "Sociology                        16    4\n",
       "Spanish                           5    0\n",
       "Spanish with Teacher Cert         3    1\n",
       "Spec Ed: Gen. Curr. - Reading    10    3\n",
       "Theatre Arts                    119   12\n",
       "Theatre Education                26    3\n",
       "Undeclared                      349  111"
      ]
     },
     "execution_count": 249,
     "metadata": {},
     "output_type": "execute_result"
    }
   ],
   "source": [
    "pd.crosstab(df['STDNT_MAJOR'],df['Target'])"
   ]
  },
  {
   "cell_type": "code",
   "execution_count": 250,
   "metadata": {},
   "outputs": [
    {
     "data": {
      "text/plain": [
       "<AxesSubplot:xlabel='count', ylabel='STDNT_MAJOR'>"
      ]
     },
     "execution_count": 250,
     "metadata": {},
     "output_type": "execute_result"
    },
    {
     "data": {
      "image/png": "[encoded data removed]",
      "text/plain": [
       "<Figure size 1080x1440 with 1 Axes>"
      ]
     },
     "metadata": {
      "needs_background": "light"
     },
     "output_type": "display_data"
    }
   ],
   "source": [
    "plt.figure(figsize=(15,20))\n",
    "sns.countplot(data=df,y='STDNT_MAJOR',hue='Target')"
   ]
  },
  {
   "cell_type": "markdown",
   "metadata": {},
   "source": [
    "## Student minor"
   ]
  },
  {
   "cell_type": "code",
   "execution_count": 251,
   "metadata": {},
   "outputs": [
    {
     "data": {
      "text/plain": [
       "N                                92.941176\n",
       "Spanish                           0.764706\n",
       "Music                             0.558824\n",
       "Psychology                        0.558824\n",
       "Foundations of Business           0.441176\n",
       "Communication                     0.411765\n",
       "History                           0.382353\n",
       "Criminal Justice                  0.352941\n",
       "Theatre Arts                      0.352941\n",
       "Computer Science - Systems        0.294118\n",
       "Early Childhood Education         0.264706\n",
       "Mathematics                       0.205882\n",
       "Professional Writing              0.176471\n",
       "Marketing                         0.176471\n",
       "Art History                       0.176471\n",
       "Sociology                         0.147059\n",
       "Art                               0.147059\n",
       "English Language/Literature       0.147059\n",
       "French                            0.117647\n",
       "Accounting                        0.117647\n",
       "Chemistry                         0.117647\n",
       "Biology                           0.117647\n",
       "Political Science                 0.117647\n",
       "International Business            0.088235\n",
       "Exercise Science                  0.088235\n",
       "Health Science                    0.088235\n",
       "Computer Info. Management         0.088235\n",
       "Economics                         0.088235\n",
       "Creative Writing                  0.058824\n",
       "Anthropology                      0.058824\n",
       "Asian Studies                     0.058824\n",
       "African Studies                   0.058824\n",
       "Management                        0.058824\n",
       "Military Sci & Adv Leadership     0.058824\n",
       "Philosophy                        0.058824\n",
       "Finance                           0.029412\n",
       "Women's Studies                   0.029412\n",
       "Name: STDNT_MINOR, dtype: float64"
      ]
     },
     "execution_count": 251,
     "metadata": {},
     "output_type": "execute_result"
    }
   ],
   "source": [
    "df['STDNT_MINOR'].value_counts(normalize=True)*100\n",
    "# 93% of the students have no minors"
   ]
  },
  {
   "cell_type": "code",
   "execution_count": 252,
   "metadata": {},
   "outputs": [
    {
     "data": {
      "text/html": [
       "<div>\n",
       "<style scoped>\n",
       "    .dataframe tbody tr th:only-of-type {\n",
       "        vertical-align: middle;\n",
       "    }\n",
       "\n",
       "    .dataframe tbody tr th {\n",
       "        vertical-align: top;\n",
       "    }\n",
       "\n",
       "    .dataframe thead th {\n",
       "        text-align: right;\n",
       "    }\n",
       "</style>\n",
       "<table border=\"1\" class=\"dataframe\">\n",
       "  <thead>\n",
       "    <tr style=\"text-align: right;\">\n",
       "      <th>Target</th>\n",
       "      <th>0</th>\n",
       "      <th>1</th>\n",
       "    </tr>\n",
       "    <tr>\n",
       "      <th>STDNT_MINOR</th>\n",
       "      <th></th>\n",
       "      <th></th>\n",
       "    </tr>\n",
       "  </thead>\n",
       "  <tbody>\n",
       "    <tr>\n",
       "      <th>Accounting</th>\n",
       "      <td>3</td>\n",
       "      <td>1</td>\n",
       "    </tr>\n",
       "    <tr>\n",
       "      <th>African Studies</th>\n",
       "      <td>2</td>\n",
       "      <td>0</td>\n",
       "    </tr>\n",
       "    <tr>\n",
       "      <th>Anthropology</th>\n",
       "      <td>2</td>\n",
       "      <td>0</td>\n",
       "    </tr>\n",
       "    <tr>\n",
       "      <th>Art</th>\n",
       "      <td>3</td>\n",
       "      <td>2</td>\n",
       "    </tr>\n",
       "    <tr>\n",
       "      <th>Art History</th>\n",
       "      <td>4</td>\n",
       "      <td>2</td>\n",
       "    </tr>\n",
       "    <tr>\n",
       "      <th>Asian Studies</th>\n",
       "      <td>2</td>\n",
       "      <td>0</td>\n",
       "    </tr>\n",
       "    <tr>\n",
       "      <th>Biology</th>\n",
       "      <td>3</td>\n",
       "      <td>1</td>\n",
       "    </tr>\n",
       "    <tr>\n",
       "      <th>Chemistry</th>\n",
       "      <td>4</td>\n",
       "      <td>0</td>\n",
       "    </tr>\n",
       "    <tr>\n",
       "      <th>Communication</th>\n",
       "      <td>13</td>\n",
       "      <td>1</td>\n",
       "    </tr>\n",
       "    <tr>\n",
       "      <th>Computer Info. Management</th>\n",
       "      <td>3</td>\n",
       "      <td>0</td>\n",
       "    </tr>\n",
       "    <tr>\n",
       "      <th>Computer Science - Systems</th>\n",
       "      <td>8</td>\n",
       "      <td>2</td>\n",
       "    </tr>\n",
       "    <tr>\n",
       "      <th>Creative Writing</th>\n",
       "      <td>1</td>\n",
       "      <td>1</td>\n",
       "    </tr>\n",
       "    <tr>\n",
       "      <th>Criminal Justice</th>\n",
       "      <td>8</td>\n",
       "      <td>4</td>\n",
       "    </tr>\n",
       "    <tr>\n",
       "      <th>Early Childhood Education</th>\n",
       "      <td>7</td>\n",
       "      <td>2</td>\n",
       "    </tr>\n",
       "    <tr>\n",
       "      <th>Economics</th>\n",
       "      <td>2</td>\n",
       "      <td>1</td>\n",
       "    </tr>\n",
       "    <tr>\n",
       "      <th>English Language/Literature</th>\n",
       "      <td>1</td>\n",
       "      <td>4</td>\n",
       "    </tr>\n",
       "    <tr>\n",
       "      <th>Exercise Science</th>\n",
       "      <td>2</td>\n",
       "      <td>1</td>\n",
       "    </tr>\n",
       "    <tr>\n",
       "      <th>Finance</th>\n",
       "      <td>1</td>\n",
       "      <td>0</td>\n",
       "    </tr>\n",
       "    <tr>\n",
       "      <th>Foundations of Business</th>\n",
       "      <td>13</td>\n",
       "      <td>2</td>\n",
       "    </tr>\n",
       "    <tr>\n",
       "      <th>French</th>\n",
       "      <td>3</td>\n",
       "      <td>1</td>\n",
       "    </tr>\n",
       "    <tr>\n",
       "      <th>Health Science</th>\n",
       "      <td>3</td>\n",
       "      <td>0</td>\n",
       "    </tr>\n",
       "    <tr>\n",
       "      <th>History</th>\n",
       "      <td>11</td>\n",
       "      <td>2</td>\n",
       "    </tr>\n",
       "    <tr>\n",
       "      <th>International Business</th>\n",
       "      <td>3</td>\n",
       "      <td>0</td>\n",
       "    </tr>\n",
       "    <tr>\n",
       "      <th>Management</th>\n",
       "      <td>2</td>\n",
       "      <td>0</td>\n",
       "    </tr>\n",
       "    <tr>\n",
       "      <th>Marketing</th>\n",
       "      <td>5</td>\n",
       "      <td>1</td>\n",
       "    </tr>\n",
       "    <tr>\n",
       "      <th>Mathematics</th>\n",
       "      <td>7</td>\n",
       "      <td>0</td>\n",
       "    </tr>\n",
       "    <tr>\n",
       "      <th>Military Sci &amp; Adv Leadership</th>\n",
       "      <td>1</td>\n",
       "      <td>1</td>\n",
       "    </tr>\n",
       "    <tr>\n",
       "      <th>Music</th>\n",
       "      <td>16</td>\n",
       "      <td>3</td>\n",
       "    </tr>\n",
       "    <tr>\n",
       "      <th>N</th>\n",
       "      <td>2485</td>\n",
       "      <td>675</td>\n",
       "    </tr>\n",
       "    <tr>\n",
       "      <th>Philosophy</th>\n",
       "      <td>2</td>\n",
       "      <td>0</td>\n",
       "    </tr>\n",
       "    <tr>\n",
       "      <th>Political Science</th>\n",
       "      <td>3</td>\n",
       "      <td>1</td>\n",
       "    </tr>\n",
       "    <tr>\n",
       "      <th>Professional Writing</th>\n",
       "      <td>6</td>\n",
       "      <td>0</td>\n",
       "    </tr>\n",
       "    <tr>\n",
       "      <th>Psychology</th>\n",
       "      <td>14</td>\n",
       "      <td>5</td>\n",
       "    </tr>\n",
       "    <tr>\n",
       "      <th>Sociology</th>\n",
       "      <td>3</td>\n",
       "      <td>2</td>\n",
       "    </tr>\n",
       "    <tr>\n",
       "      <th>Spanish</th>\n",
       "      <td>22</td>\n",
       "      <td>4</td>\n",
       "    </tr>\n",
       "    <tr>\n",
       "      <th>Theatre Arts</th>\n",
       "      <td>9</td>\n",
       "      <td>3</td>\n",
       "    </tr>\n",
       "    <tr>\n",
       "      <th>Women's Studies</th>\n",
       "      <td>0</td>\n",
       "      <td>1</td>\n",
       "    </tr>\n",
       "  </tbody>\n",
       "</table>\n",
       "</div>"
      ],
      "text/plain": [
       "Target                            0    1\n",
       "STDNT_MINOR                             \n",
       "Accounting                        3    1\n",
       "African Studies                   2    0\n",
       "Anthropology                      2    0\n",
       "Art                               3    2\n",
       "Art History                       4    2\n",
       "Asian Studies                     2    0\n",
       "Biology                           3    1\n",
       "Chemistry                         4    0\n",
       "Communication                    13    1\n",
       "Computer Info. Management         3    0\n",
       "Computer Science - Systems        8    2\n",
       "Creative Writing                  1    1\n",
       "Criminal Justice                  8    4\n",
       "Early Childhood Education         7    2\n",
       "Economics                         2    1\n",
       "English Language/Literature       1    4\n",
       "Exercise Science                  2    1\n",
       "Finance                           1    0\n",
       "Foundations of Business          13    2\n",
       "French                            3    1\n",
       "Health Science                    3    0\n",
       "History                          11    2\n",
       "International Business            3    0\n",
       "Management                        2    0\n",
       "Marketing                         5    1\n",
       "Mathematics                       7    0\n",
       "Military Sci & Adv Leadership     1    1\n",
       "Music                            16    3\n",
       "N                              2485  675\n",
       "Philosophy                        2    0\n",
       "Political Science                 3    1\n",
       "Professional Writing              6    0\n",
       "Psychology                       14    5\n",
       "Sociology                         3    2\n",
       "Spanish                          22    4\n",
       "Theatre Arts                      9    3\n",
       "Women's Studies                   0    1"
      ]
     },
     "execution_count": 252,
     "metadata": {},
     "output_type": "execute_result"
    }
   ],
   "source": [
    "pd.crosstab(df['STDNT_MINOR'],df['Target'])\n",
    "# We can ignore this feature"
   ]
  },
  {
   "cell_type": "markdown",
   "metadata": {},
   "source": [
    "## Entrance test"
   ]
  },
  {
   "cell_type": "code",
   "execution_count": 253,
   "metadata": {},
   "outputs": [
    {
     "data": {
      "text/plain": [
       "STDNT_TEST_ENTRANCE1        2294\n",
       "STDNT_TEST_ENTRANCE2         908\n",
       "STDNT_TEST_ENTRANCE_COMB     518\n",
       "dtype: int64"
      ]
     },
     "execution_count": 253,
     "metadata": {},
     "output_type": "execute_result"
    }
   ],
   "source": [
    "df[['STDNT_TEST_ENTRANCE1','STDNT_TEST_ENTRANCE2','STDNT_TEST_ENTRANCE_COMB']].isnull().sum()\n",
    "# Both Entrance 1&2 have large number of missing values.\n",
    "# Hence we should only consider the combined test variable"
   ]
  },
  {
   "cell_type": "code",
   "execution_count": 254,
   "metadata": {},
   "outputs": [
    {
     "data": {
      "text/plain": [
       "<AxesSubplot:xlabel='STDNT_TEST_ENTRANCE_COMB', ylabel='Density'>"
      ]
     },
     "execution_count": 254,
     "metadata": {},
     "output_type": "execute_result"
    },
    {
     "data": {
      "image/png": "[encoded data removed]",
      "text/plain": [
       "<Figure size 432x288 with 1 Axes>"
      ]
     },
     "metadata": {
      "needs_background": "light"
     },
     "output_type": "display_data"
    }
   ],
   "source": [
    "sns.histplot(df['STDNT_TEST_ENTRANCE_COMB'],kde=True, stat=\"density\", linewidth=0)"
   ]
  },
  {
   "cell_type": "code",
   "execution_count": 255,
   "metadata": {},
   "outputs": [
    {
     "data": {
      "text/plain": [
       "Text(0.5, 1.0, 'Count of STDNT_TEST_ENTRANCE_COMB group w.r.t Attrition')"
      ]
     },
     "execution_count": 255,
     "metadata": {},
     "output_type": "execute_result"
    },
    {
     "data": {
      "image/png": "[encoded data removed]",
      "text/plain": [
       "<Figure size 576x360 with 1 Axes>"
      ]
     },
     "metadata": {
      "needs_background": "light"
     },
     "output_type": "display_data"
    }
   ],
   "source": [
    "plt.figure(figsize=(8,5))\n",
    "\n",
    "sns.histplot(data=df,x='STDNT_TEST_ENTRANCE_COMB',hue='Target')\n",
    "plt.title('Count of STDNT_TEST_ENTRANCE_COMB group w.r.t Attrition')"
   ]
  },
  {
   "cell_type": "code",
   "execution_count": 256,
   "metadata": {},
   "outputs": [
    {
     "data": {
      "text/plain": [
       "<AxesSubplot:xlabel='STDNT_TEST_ENTRANCE_COMB'>"
      ]
     },
     "execution_count": 256,
     "metadata": {},
     "output_type": "execute_result"
    },
    {
     "data": {
      "image/png": "[encoded data removed]",
      "text/plain": [
       "<Figure size 432x288 with 1 Axes>"
      ]
     },
     "metadata": {
      "needs_background": "light"
     },
     "output_type": "display_data"
    }
   ],
   "source": [
    "sns.boxplot(data=df,x='STDNT_TEST_ENTRANCE_COMB')\n",
    "# There are outliers in this variable"
   ]
  },
  {
   "cell_type": "markdown",
   "metadata": {},
   "source": [
    "## First Term"
   ]
  },
  {
   "cell_type": "code",
   "execution_count": 257,
   "metadata": {},
   "outputs": [
    {
     "data": {
      "text/plain": [
       "200908    676\n",
       "201008    632\n",
       "200808    581\n",
       "200708    521\n",
       "200608    497\n",
       "200508    493\n",
       "Name: FIRST_TERM, dtype: int64"
      ]
     },
     "execution_count": 257,
     "metadata": {},
     "output_type": "execute_result"
    }
   ],
   "source": [
    "df['FIRST_TERM'].value_counts()\n",
    "# It has values ranging from the year 2005-2010"
   ]
  },
  {
   "cell_type": "code",
   "execution_count": 258,
   "metadata": {},
   "outputs": [
    {
     "data": {
      "text/html": [
       "<div>\n",
       "<style scoped>\n",
       "    .dataframe tbody tr th:only-of-type {\n",
       "        vertical-align: middle;\n",
       "    }\n",
       "\n",
       "    .dataframe tbody tr th {\n",
       "        vertical-align: top;\n",
       "    }\n",
       "\n",
       "    .dataframe thead th {\n",
       "        text-align: right;\n",
       "    }\n",
       "</style>\n",
       "<table border=\"1\" class=\"dataframe\">\n",
       "  <thead>\n",
       "    <tr style=\"text-align: right;\">\n",
       "      <th>Target</th>\n",
       "      <th>0</th>\n",
       "      <th>1</th>\n",
       "    </tr>\n",
       "    <tr>\n",
       "      <th>FIRST_TERM</th>\n",
       "      <th></th>\n",
       "      <th></th>\n",
       "    </tr>\n",
       "  </thead>\n",
       "  <tbody>\n",
       "    <tr>\n",
       "      <th>200508</th>\n",
       "      <td>78.498986</td>\n",
       "      <td>21.501014</td>\n",
       "    </tr>\n",
       "    <tr>\n",
       "      <th>200608</th>\n",
       "      <td>84.305835</td>\n",
       "      <td>15.694165</td>\n",
       "    </tr>\n",
       "    <tr>\n",
       "      <th>200708</th>\n",
       "      <td>78.694818</td>\n",
       "      <td>21.305182</td>\n",
       "    </tr>\n",
       "    <tr>\n",
       "      <th>200808</th>\n",
       "      <td>77.280551</td>\n",
       "      <td>22.719449</td>\n",
       "    </tr>\n",
       "    <tr>\n",
       "      <th>200908</th>\n",
       "      <td>76.923077</td>\n",
       "      <td>23.076923</td>\n",
       "    </tr>\n",
       "    <tr>\n",
       "      <th>201008</th>\n",
       "      <td>77.848101</td>\n",
       "      <td>22.151899</td>\n",
       "    </tr>\n",
       "  </tbody>\n",
       "</table>\n",
       "</div>"
      ],
      "text/plain": [
       "Target              0          1\n",
       "FIRST_TERM                      \n",
       "200508      78.498986  21.501014\n",
       "200608      84.305835  15.694165\n",
       "200708      78.694818  21.305182\n",
       "200808      77.280551  22.719449\n",
       "200908      76.923077  23.076923\n",
       "201008      77.848101  22.151899"
      ]
     },
     "execution_count": 258,
     "metadata": {},
     "output_type": "execute_result"
    }
   ],
   "source": [
    "pd.crosstab(df['FIRST_TERM'],df['Target'],normalize='index')*100\n",
    "# Nearly proportional relation with exception on 2006"
   ]
  },
  {
   "cell_type": "markdown",
   "metadata": {},
   "source": [
    "## Couse names & Course grades"
   ]
  },
  {
   "cell_type": "code",
   "execution_count": 259,
   "metadata": {},
   "outputs": [
    {
     "data": {
      "text/plain": [
       "CORE_COURSE_NAME_1_F        0\n",
       "CORE_COURSE_GRADE_1_F       0\n",
       "CORE_COURSE_NAME_2_F       99\n",
       "CORE_COURSE_GRADE_2_F      99\n",
       "CORE_COURSE_NAME_3_F      565\n",
       "CORE_COURSE_GRADE_3_F     565\n",
       "CORE_COURSE_NAME_4_F     1597\n",
       "CORE_COURSE_GRADE_4_F    1597\n",
       "CORE_COURSE_NAME_5_F     2755\n",
       "CORE_COURSE_GRADE_5_F    2755\n",
       "CORE_COURSE_NAME_6_F     3272\n",
       "CORE_COURSE_GRADE_6_F    3272\n",
       "dtype: int64"
      ]
     },
     "execution_count": 259,
     "metadata": {},
     "output_type": "execute_result"
    }
   ],
   "source": [
    "df[['CORE_COURSE_NAME_1_F',\n",
    " 'CORE_COURSE_GRADE_1_F',\n",
    " 'CORE_COURSE_NAME_2_F',\n",
    " 'CORE_COURSE_GRADE_2_F',\n",
    " 'CORE_COURSE_NAME_3_F',\n",
    " 'CORE_COURSE_GRADE_3_F',\n",
    " 'CORE_COURSE_NAME_4_F',\n",
    " 'CORE_COURSE_GRADE_4_F',\n",
    " 'CORE_COURSE_NAME_5_F',\n",
    " 'CORE_COURSE_GRADE_5_F',\n",
    " 'CORE_COURSE_NAME_6_F',\n",
    " 'CORE_COURSE_GRADE_6_F',]].isnull().sum()\n",
    "# We can't keep most of the variables "
   ]
  },
  {
   "cell_type": "code",
   "execution_count": 260,
   "metadata": {},
   "outputs": [
    {
     "data": {
      "text/html": [
       "<div>\n",
       "<style scoped>\n",
       "    .dataframe tbody tr th:only-of-type {\n",
       "        vertical-align: middle;\n",
       "    }\n",
       "\n",
       "    .dataframe tbody tr th {\n",
       "        vertical-align: top;\n",
       "    }\n",
       "\n",
       "    .dataframe thead th {\n",
       "        text-align: right;\n",
       "    }\n",
       "</style>\n",
       "<table border=\"1\" class=\"dataframe\">\n",
       "  <thead>\n",
       "    <tr style=\"text-align: right;\">\n",
       "      <th></th>\n",
       "      <th>CORE_COURSE_NAME_1_F</th>\n",
       "      <th>CORE_COURSE_GRADE_1_F</th>\n",
       "      <th>CORE_COURSE_NAME_2_F</th>\n",
       "      <th>CORE_COURSE_GRADE_2_F</th>\n",
       "      <th>CORE_COURSE_NAME_3_F</th>\n",
       "      <th>CORE_COURSE_GRADE_3_F</th>\n",
       "      <th>CORE_COURSE_NAME_4_F</th>\n",
       "      <th>CORE_COURSE_GRADE_4_F</th>\n",
       "      <th>CORE_COURSE_NAME_5_F</th>\n",
       "      <th>CORE_COURSE_GRADE_5_F</th>\n",
       "      <th>CORE_COURSE_NAME_6_F</th>\n",
       "      <th>CORE_COURSE_GRADE_6_F</th>\n",
       "    </tr>\n",
       "  </thead>\n",
       "  <tbody>\n",
       "    <tr>\n",
       "      <th>0</th>\n",
       "      <td>ANTH 1105</td>\n",
       "      <td>A</td>\n",
       "      <td>ARTH 1100</td>\n",
       "      <td>A</td>\n",
       "      <td>ENGL 1102</td>\n",
       "      <td>A</td>\n",
       "      <td>PSYC 1101</td>\n",
       "      <td>A</td>\n",
       "      <td>NaN</td>\n",
       "      <td>NaN</td>\n",
       "      <td>NaN</td>\n",
       "      <td>NaN</td>\n",
       "    </tr>\n",
       "    <tr>\n",
       "      <th>1</th>\n",
       "      <td>ANTH 1105</td>\n",
       "      <td>A</td>\n",
       "      <td>GERM 1002</td>\n",
       "      <td>A</td>\n",
       "      <td>ITDS 2735</td>\n",
       "      <td>A</td>\n",
       "      <td>MATH 1125</td>\n",
       "      <td>A</td>\n",
       "      <td>THEA 1100</td>\n",
       "      <td>A</td>\n",
       "      <td>POLS 1101</td>\n",
       "      <td>A</td>\n",
       "    </tr>\n",
       "    <tr>\n",
       "      <th>2</th>\n",
       "      <td>ANTH 1105</td>\n",
       "      <td>A</td>\n",
       "      <td>ENGL 1101</td>\n",
       "      <td>A</td>\n",
       "      <td>HIST 2111</td>\n",
       "      <td>A</td>\n",
       "      <td>MATH 1111</td>\n",
       "      <td>A</td>\n",
       "      <td>SOCI 1101</td>\n",
       "      <td>A</td>\n",
       "      <td>NaN</td>\n",
       "      <td>NaN</td>\n",
       "    </tr>\n",
       "    <tr>\n",
       "      <th>3</th>\n",
       "      <td>ANTH 1107</td>\n",
       "      <td>A</td>\n",
       "      <td>COMM 1110</td>\n",
       "      <td>A</td>\n",
       "      <td>NaN</td>\n",
       "      <td>NaN</td>\n",
       "      <td>NaN</td>\n",
       "      <td>NaN</td>\n",
       "      <td>NaN</td>\n",
       "      <td>NaN</td>\n",
       "      <td>NaN</td>\n",
       "      <td>NaN</td>\n",
       "    </tr>\n",
       "    <tr>\n",
       "      <th>4</th>\n",
       "      <td>ANTH 1107</td>\n",
       "      <td>A</td>\n",
       "      <td>ARTH 1100</td>\n",
       "      <td>A</td>\n",
       "      <td>CPSC 1105</td>\n",
       "      <td>A</td>\n",
       "      <td>MATH 1111</td>\n",
       "      <td>A</td>\n",
       "      <td>NaN</td>\n",
       "      <td>NaN</td>\n",
       "      <td>NaN</td>\n",
       "      <td>NaN</td>\n",
       "    </tr>\n",
       "  </tbody>\n",
       "</table>\n",
       "</div>"
      ],
      "text/plain": [
       "  CORE_COURSE_NAME_1_F CORE_COURSE_GRADE_1_F CORE_COURSE_NAME_2_F  \\\n",
       "0            ANTH 1105                     A            ARTH 1100   \n",
       "1            ANTH 1105                     A            GERM 1002   \n",
       "2            ANTH 1105                     A            ENGL 1101   \n",
       "3            ANTH 1107                     A            COMM 1110   \n",
       "4            ANTH 1107                     A            ARTH 1100   \n",
       "\n",
       "  CORE_COURSE_GRADE_2_F CORE_COURSE_NAME_3_F CORE_COURSE_GRADE_3_F  \\\n",
       "0                     A            ENGL 1102                     A   \n",
       "1                     A            ITDS 2735                     A   \n",
       "2                     A            HIST 2111                     A   \n",
       "3                     A                  NaN                   NaN   \n",
       "4                     A            CPSC 1105                     A   \n",
       "\n",
       "  CORE_COURSE_NAME_4_F CORE_COURSE_GRADE_4_F CORE_COURSE_NAME_5_F  \\\n",
       "0            PSYC 1101                     A                  NaN   \n",
       "1            MATH 1125                     A            THEA 1100   \n",
       "2            MATH 1111                     A            SOCI 1101   \n",
       "3                  NaN                   NaN                  NaN   \n",
       "4            MATH 1111                     A                  NaN   \n",
       "\n",
       "  CORE_COURSE_GRADE_5_F CORE_COURSE_NAME_6_F CORE_COURSE_GRADE_6_F  \n",
       "0                   NaN                  NaN                   NaN  \n",
       "1                     A            POLS 1101                     A  \n",
       "2                     A                  NaN                   NaN  \n",
       "3                   NaN                  NaN                   NaN  \n",
       "4                   NaN                  NaN                   NaN  "
      ]
     },
     "execution_count": 260,
     "metadata": {},
     "output_type": "execute_result"
    }
   ],
   "source": [
    "df[['CORE_COURSE_NAME_1_F',\n",
    " 'CORE_COURSE_GRADE_1_F',\n",
    " 'CORE_COURSE_NAME_2_F',\n",
    " 'CORE_COURSE_GRADE_2_F',\n",
    " 'CORE_COURSE_NAME_3_F',\n",
    " 'CORE_COURSE_GRADE_3_F',\n",
    " 'CORE_COURSE_NAME_4_F',\n",
    " 'CORE_COURSE_GRADE_4_F',\n",
    " 'CORE_COURSE_NAME_5_F',\n",
    " 'CORE_COURSE_GRADE_5_F',\n",
    " 'CORE_COURSE_NAME_6_F',\n",
    " 'CORE_COURSE_GRADE_6_F',]].head()\n",
    "# We can keep the grades and drop course names"
   ]
  },
  {
   "cell_type": "code",
   "execution_count": 261,
   "metadata": {},
   "outputs": [
    {
     "data": {
      "text/plain": [
       "B          4100\n",
       "A          3905\n",
       "C          2402\n",
       "D           966\n",
       "F           595\n",
       "NOT REP     109\n",
       "INCOMPL      35\n",
       "dtype: int64"
      ]
     },
     "execution_count": 261,
     "metadata": {},
     "output_type": "execute_result"
    }
   ],
   "source": [
    "pd.concat([df['CORE_COURSE_GRADE_1_F'],\n",
    "   df['CORE_COURSE_GRADE_2_F'],\n",
    "   df['CORE_COURSE_GRADE_3_F'],\n",
    "   df['CORE_COURSE_GRADE_4_F'],\n",
    "   df['CORE_COURSE_GRADE_5_F'],\n",
    "   df['CORE_COURSE_GRADE_6_F']]).value_counts()"
   ]
  },
  {
   "cell_type": "markdown",
   "metadata": {},
   "source": [
    "## Second Term"
   ]
  },
  {
   "cell_type": "code",
   "execution_count": 262,
   "metadata": {},
   "outputs": [
    {
     "data": {
      "text/plain": [
       "201002    676\n",
       "201102    632\n",
       "200902    581\n",
       "200802    521\n",
       "200702    497\n",
       "200602    493\n",
       "Name: SECOND_TERM, dtype: int64"
      ]
     },
     "execution_count": 262,
     "metadata": {},
     "output_type": "execute_result"
    }
   ],
   "source": [
    "df['SECOND_TERM'].value_counts()\n",
    "# It has values ranging from the year 2006-2010"
   ]
  },
  {
   "cell_type": "code",
   "execution_count": 263,
   "metadata": {},
   "outputs": [
    {
     "data": {
      "text/html": [
       "<div>\n",
       "<style scoped>\n",
       "    .dataframe tbody tr th:only-of-type {\n",
       "        vertical-align: middle;\n",
       "    }\n",
       "\n",
       "    .dataframe tbody tr th {\n",
       "        vertical-align: top;\n",
       "    }\n",
       "\n",
       "    .dataframe thead th {\n",
       "        text-align: right;\n",
       "    }\n",
       "</style>\n",
       "<table border=\"1\" class=\"dataframe\">\n",
       "  <thead>\n",
       "    <tr style=\"text-align: right;\">\n",
       "      <th>Target</th>\n",
       "      <th>0</th>\n",
       "      <th>1</th>\n",
       "    </tr>\n",
       "    <tr>\n",
       "      <th>SECOND_TERM</th>\n",
       "      <th></th>\n",
       "      <th></th>\n",
       "    </tr>\n",
       "  </thead>\n",
       "  <tbody>\n",
       "    <tr>\n",
       "      <th>200602</th>\n",
       "      <td>78.498986</td>\n",
       "      <td>21.501014</td>\n",
       "    </tr>\n",
       "    <tr>\n",
       "      <th>200702</th>\n",
       "      <td>84.305835</td>\n",
       "      <td>15.694165</td>\n",
       "    </tr>\n",
       "    <tr>\n",
       "      <th>200802</th>\n",
       "      <td>78.694818</td>\n",
       "      <td>21.305182</td>\n",
       "    </tr>\n",
       "    <tr>\n",
       "      <th>200902</th>\n",
       "      <td>77.280551</td>\n",
       "      <td>22.719449</td>\n",
       "    </tr>\n",
       "    <tr>\n",
       "      <th>201002</th>\n",
       "      <td>76.923077</td>\n",
       "      <td>23.076923</td>\n",
       "    </tr>\n",
       "    <tr>\n",
       "      <th>201102</th>\n",
       "      <td>77.848101</td>\n",
       "      <td>22.151899</td>\n",
       "    </tr>\n",
       "  </tbody>\n",
       "</table>\n",
       "</div>"
      ],
      "text/plain": [
       "Target               0          1\n",
       "SECOND_TERM                      \n",
       "200602       78.498986  21.501014\n",
       "200702       84.305835  15.694165\n",
       "200802       78.694818  21.305182\n",
       "200902       77.280551  22.719449\n",
       "201002       76.923077  23.076923\n",
       "201102       77.848101  22.151899"
      ]
     },
     "execution_count": 263,
     "metadata": {},
     "output_type": "execute_result"
    }
   ],
   "source": [
    "pd.crosstab(df['SECOND_TERM'],df['Target'],normalize='index')*100\n",
    "# nearly proportional relation between year and attrition, with exception on 2007"
   ]
  },
  {
   "cell_type": "markdown",
   "metadata": {},
   "source": [
    "## Course names & Course grades"
   ]
  },
  {
   "cell_type": "code",
   "execution_count": 264,
   "metadata": {
    "scrolled": true
   },
   "outputs": [
    {
     "data": {
      "text/plain": [
       "CORE_COURSE_NAME_1_S      157\n",
       "CORE_COURSE_GRADE_1_S     232\n",
       "CORE_COURSE_NAME_2_S      439\n",
       "CORE_COURSE_GRADE_2_S     439\n",
       "CORE_COURSE_NAME_3_S     1038\n",
       "CORE_COURSE_GRADE_3_S    1038\n",
       "CORE_COURSE_NAME_4_S     2045\n",
       "CORE_COURSE_GRADE_4_S    2045\n",
       "CORE_COURSE_NAME_5_S     2950\n",
       "CORE_COURSE_GRADE_5_S    2950\n",
       "CORE_COURSE_NAME_6_S     3319\n",
       "CORE_COURSE_GRADE_6_S    3319\n",
       "dtype: int64"
      ]
     },
     "execution_count": 264,
     "metadata": {},
     "output_type": "execute_result"
    }
   ],
   "source": [
    "df[['CORE_COURSE_NAME_1_S',\n",
    " 'CORE_COURSE_GRADE_1_S',\n",
    " 'CORE_COURSE_NAME_2_S',\n",
    " 'CORE_COURSE_GRADE_2_S',\n",
    " 'CORE_COURSE_NAME_3_S',\n",
    " 'CORE_COURSE_GRADE_3_S',\n",
    " 'CORE_COURSE_NAME_4_S',\n",
    " 'CORE_COURSE_GRADE_4_S',\n",
    " 'CORE_COURSE_NAME_5_S',\n",
    " 'CORE_COURSE_GRADE_5_S',\n",
    " 'CORE_COURSE_NAME_6_S',\n",
    " 'CORE_COURSE_GRADE_6_S']].isnull().sum()\n",
    "# Most of these variables are unusable\n",
    "# We can think of dropping them all together or getting just the grades like we did in first term"
   ]
  },
  {
   "cell_type": "markdown",
   "metadata": {},
   "source": [
    "## Housing status"
   ]
  },
  {
   "cell_type": "code",
   "execution_count": 265,
   "metadata": {},
   "outputs": [
    {
     "data": {
      "text/plain": [
       "Off Campus    1981\n",
       "On Campus     1419\n",
       "Name: HOUSING_STS, dtype: int64"
      ]
     },
     "execution_count": 265,
     "metadata": {},
     "output_type": "execute_result"
    }
   ],
   "source": [
    "df['HOUSING_STS'].value_counts()\n",
    "# slightly more number of students staying outside campus"
   ]
  },
  {
   "cell_type": "code",
   "execution_count": 266,
   "metadata": {},
   "outputs": [
    {
     "data": {
      "text/html": [
       "<div>\n",
       "<style scoped>\n",
       "    .dataframe tbody tr th:only-of-type {\n",
       "        vertical-align: middle;\n",
       "    }\n",
       "\n",
       "    .dataframe tbody tr th {\n",
       "        vertical-align: top;\n",
       "    }\n",
       "\n",
       "    .dataframe thead th {\n",
       "        text-align: right;\n",
       "    }\n",
       "</style>\n",
       "<table border=\"1\" class=\"dataframe\">\n",
       "  <thead>\n",
       "    <tr style=\"text-align: right;\">\n",
       "      <th>Target</th>\n",
       "      <th>0</th>\n",
       "      <th>1</th>\n",
       "    </tr>\n",
       "    <tr>\n",
       "      <th>HOUSING_STS</th>\n",
       "      <th></th>\n",
       "      <th></th>\n",
       "    </tr>\n",
       "  </thead>\n",
       "  <tbody>\n",
       "    <tr>\n",
       "      <th>Off Campus</th>\n",
       "      <td>80.363453</td>\n",
       "      <td>19.636547</td>\n",
       "    </tr>\n",
       "    <tr>\n",
       "      <th>On Campus</th>\n",
       "      <td>76.462297</td>\n",
       "      <td>23.537703</td>\n",
       "    </tr>\n",
       "  </tbody>\n",
       "</table>\n",
       "</div>"
      ],
      "text/plain": [
       "Target               0          1\n",
       "HOUSING_STS                      \n",
       "Off Campus   80.363453  19.636547\n",
       "On Campus    76.462297  23.537703"
      ]
     },
     "execution_count": 266,
     "metadata": {},
     "output_type": "execute_result"
    }
   ],
   "source": [
    "pd.crosstab(df['HOUSING_STS'],df['Target'],normalize='index')*100"
   ]
  },
  {
   "cell_type": "code",
   "execution_count": 267,
   "metadata": {},
   "outputs": [
    {
     "data": {
      "text/plain": [
       "Text(0.5, 1.0, 'Students housing status w.r.t attrition')"
      ]
     },
     "execution_count": 267,
     "metadata": {},
     "output_type": "execute_result"
    },
    {
     "data": {
      "image/png": "[encoded data removed]",
      "text/plain": [
       "<Figure size 576x360 with 1 Axes>"
      ]
     },
     "metadata": {
      "needs_background": "light"
     },
     "output_type": "display_data"
    }
   ],
   "source": [
    "plt.figure(figsize=(8,5))\n",
    "sns.countplot(data=df,x=df['HOUSING_STS'],hue=df['Target'])\n",
    "plt.title(\"Students housing status w.r.t attrition\")"
   ]
  },
  {
   "cell_type": "markdown",
   "metadata": {},
   "source": [
    "## Distance from home"
   ]
  },
  {
   "cell_type": "code",
   "execution_count": 268,
   "metadata": {},
   "outputs": [
    {
     "data": {
      "text/plain": [
       "<AxesSubplot:xlabel='DISTANCE_FROM_HOME', ylabel='Density'>"
      ]
     },
     "execution_count": 268,
     "metadata": {},
     "output_type": "execute_result"
    },
    {
     "data": {
      "image/png": "[encoded data removed]",
      "text/plain": [
       "<Figure size 432x288 with 1 Axes>"
      ]
     },
     "metadata": {
      "needs_background": "light"
     },
     "output_type": "display_data"
    }
   ],
   "source": [
    "sns.histplot(df['DISTANCE_FROM_HOME'],kde=True, stat=\"density\", linewidth=0)\n",
    "# Values are within 1000"
   ]
  },
  {
   "cell_type": "code",
   "execution_count": 269,
   "metadata": {},
   "outputs": [
    {
     "data": {
      "text/plain": [
       "<AxesSubplot:xlabel='DISTANCE_FROM_HOME'>"
      ]
     },
     "execution_count": 269,
     "metadata": {},
     "output_type": "execute_result"
    },
    {
     "data": {
      "image/png": "[encoded data removed]",
      "text/plain": [
       "<Figure size 432x288 with 1 Axes>"
      ]
     },
     "metadata": {
      "needs_background": "light"
     },
     "output_type": "display_data"
    }
   ],
   "source": [
    "sns.boxplot(data=df,x='DISTANCE_FROM_HOME')\n",
    "# There are outliers"
   ]
  },
  {
   "cell_type": "markdown",
   "metadata": {},
   "source": [
    "## High school GPA"
   ]
  },
  {
   "cell_type": "code",
   "execution_count": 270,
   "metadata": {},
   "outputs": [
    {
     "data": {
      "text/plain": [
       "count    3347.000000\n",
       "mean        3.202738\n",
       "std         0.455337\n",
       "min         0.000000\n",
       "25%         2.870000\n",
       "50%         3.200000\n",
       "75%         3.560000\n",
       "max         4.000000\n",
       "Name: HIGH_SCHL_GPA, dtype: float64"
      ]
     },
     "execution_count": 270,
     "metadata": {},
     "output_type": "execute_result"
    }
   ],
   "source": [
    "df['HIGH_SCHL_GPA'].describe()"
   ]
  },
  {
   "cell_type": "code",
   "execution_count": 271,
   "metadata": {},
   "outputs": [
    {
     "data": {
      "text/plain": [
       "<AxesSubplot:xlabel='HIGH_SCHL_GPA', ylabel='Density'>"
      ]
     },
     "execution_count": 271,
     "metadata": {},
     "output_type": "execute_result"
    },
    {
     "data": {
      "image/png": "[encoded data removed]",
      "text/plain": [
       "<Figure size 432x288 with 1 Axes>"
      ]
     },
     "metadata": {
      "needs_background": "light"
     },
     "output_type": "display_data"
    }
   ],
   "source": [
    "sns.histplot(data=df,\n",
    "             x='HIGH_SCHL_GPA',\n",
    "             kde=True, stat=\"density\",\n",
    "             linewidth=0,\n",
    "             color=\"red\",\n",
    "             hue='Target')\n",
    "# Attrition seems to be proportional to high school GPA"
   ]
  },
  {
   "cell_type": "markdown",
   "metadata": {},
   "source": [
    "## High school name"
   ]
  },
  {
   "cell_type": "code",
   "execution_count": 272,
   "metadata": {},
   "outputs": [
    {
     "data": {
      "text/plain": [
       "SCHOOL 11     249\n",
       "SCHOOL 130    245\n",
       "SCHOOL 10     238\n",
       "SCHOOL 1      209\n",
       "SCHOOL 2      129\n",
       "             ... \n",
       "SCHOOL 185      1\n",
       "SCHOOL 498      1\n",
       "SCHOOL 375      1\n",
       "SCHOOL 433      1\n",
       "SCHOOL 329      1\n",
       "Name: HIGH_SCHL_NAME, Length: 439, dtype: int64"
      ]
     },
     "execution_count": 272,
     "metadata": {},
     "output_type": "execute_result"
    }
   ],
   "source": [
    "df['HIGH_SCHL_NAME'].value_counts()"
   ]
  },
  {
   "cell_type": "code",
   "execution_count": 273,
   "metadata": {},
   "outputs": [
    {
     "data": {
      "text/plain": [
       "439"
      ]
     },
     "execution_count": 273,
     "metadata": {},
     "output_type": "execute_result"
    }
   ],
   "source": [
    "df['HIGH_SCHL_NAME'].nunique()"
   ]
  },
  {
   "cell_type": "markdown",
   "metadata": {},
   "source": [
    "## Father's education"
   ]
  },
  {
   "cell_type": "code",
   "execution_count": 274,
   "metadata": {},
   "outputs": [
    {
     "data": {
      "text/plain": [
       "2.0    1336\n",
       "3.0    1309\n",
       "4.0     226\n",
       "1.0      97\n",
       "Name: FATHER_HI_EDU_CD, dtype: int64"
      ]
     },
     "execution_count": 274,
     "metadata": {},
     "output_type": "execute_result"
    }
   ],
   "source": [
    "df['FATHER_HI_EDU_CD'].value_counts()"
   ]
  },
  {
   "cell_type": "code",
   "execution_count": 275,
   "metadata": {},
   "outputs": [
    {
     "data": {
      "text/plain": [
       "High School                  1336\n",
       "College/Beyond               1309\n",
       "No Information                432\n",
       "Other/Unknown                 226\n",
       "Middle School/Junior High      97\n",
       "Name: FATHER_HI_EDU_DESC, dtype: int64"
      ]
     },
     "execution_count": 275,
     "metadata": {},
     "output_type": "execute_result"
    }
   ],
   "source": [
    "df['FATHER_HI_EDU_DESC'].value_counts()\n",
    "# Since they both are giving the same information, one of them is redundant\n",
    "# We can remove any one of them "
   ]
  },
  {
   "cell_type": "code",
   "execution_count": 276,
   "metadata": {},
   "outputs": [
    {
     "data": {
      "text/plain": [
       "0"
      ]
     },
     "execution_count": 276,
     "metadata": {},
     "output_type": "execute_result"
    }
   ],
   "source": [
    "df['FATHER_HI_EDU_DESC'].isnull().sum()"
   ]
  },
  {
   "cell_type": "code",
   "execution_count": 277,
   "metadata": {},
   "outputs": [
    {
     "data": {
      "text/html": [
       "<div>\n",
       "<style scoped>\n",
       "    .dataframe tbody tr th:only-of-type {\n",
       "        vertical-align: middle;\n",
       "    }\n",
       "\n",
       "    .dataframe tbody tr th {\n",
       "        vertical-align: top;\n",
       "    }\n",
       "\n",
       "    .dataframe thead th {\n",
       "        text-align: right;\n",
       "    }\n",
       "</style>\n",
       "<table border=\"1\" class=\"dataframe\">\n",
       "  <thead>\n",
       "    <tr style=\"text-align: right;\">\n",
       "      <th>Target</th>\n",
       "      <th>0</th>\n",
       "      <th>1</th>\n",
       "    </tr>\n",
       "    <tr>\n",
       "      <th>FATHER_HI_EDU_DESC</th>\n",
       "      <th></th>\n",
       "      <th></th>\n",
       "    </tr>\n",
       "  </thead>\n",
       "  <tbody>\n",
       "    <tr>\n",
       "      <th>College/Beyond</th>\n",
       "      <td>80.366692</td>\n",
       "      <td>19.633308</td>\n",
       "    </tr>\n",
       "    <tr>\n",
       "      <th>High School</th>\n",
       "      <td>78.368263</td>\n",
       "      <td>21.631737</td>\n",
       "    </tr>\n",
       "    <tr>\n",
       "      <th>Middle School/Junior High</th>\n",
       "      <td>73.195876</td>\n",
       "      <td>26.804124</td>\n",
       "    </tr>\n",
       "    <tr>\n",
       "      <th>No Information</th>\n",
       "      <td>76.157407</td>\n",
       "      <td>23.842593</td>\n",
       "    </tr>\n",
       "    <tr>\n",
       "      <th>Other/Unknown</th>\n",
       "      <td>78.761062</td>\n",
       "      <td>21.238938</td>\n",
       "    </tr>\n",
       "  </tbody>\n",
       "</table>\n",
       "</div>"
      ],
      "text/plain": [
       "Target                             0          1\n",
       "FATHER_HI_EDU_DESC                             \n",
       "College/Beyond             80.366692  19.633308\n",
       "High School                78.368263  21.631737\n",
       "Middle School/Junior High  73.195876  26.804124\n",
       "No Information             76.157407  23.842593\n",
       "Other/Unknown              78.761062  21.238938"
      ]
     },
     "execution_count": 277,
     "metadata": {},
     "output_type": "execute_result"
    }
   ],
   "source": [
    "pd.crosstab(df['FATHER_HI_EDU_DESC'],df['Target'],normalize='index')*100"
   ]
  },
  {
   "cell_type": "markdown",
   "metadata": {},
   "source": [
    "## Mother's education"
   ]
  },
  {
   "cell_type": "code",
   "execution_count": 278,
   "metadata": {},
   "outputs": [
    {
     "data": {
      "text/plain": [
       "3.0    1500\n",
       "2.0    1223\n",
       "4.0     117\n",
       "1.0      71\n",
       "Name: MOTHER_HI_EDU_CD, dtype: int64"
      ]
     },
     "execution_count": 278,
     "metadata": {},
     "output_type": "execute_result"
    }
   ],
   "source": [
    "df['MOTHER_HI_EDU_CD'].value_counts()"
   ]
  },
  {
   "cell_type": "code",
   "execution_count": 279,
   "metadata": {},
   "outputs": [
    {
     "data": {
      "text/plain": [
       "College/Beyond               1500\n",
       "High School                  1223\n",
       "No Information                489\n",
       "Other/Unknown                 117\n",
       "Middle School/Junior High      71\n",
       "Name: MOTHER_HI_EDU_DESC, dtype: int64"
      ]
     },
     "execution_count": 279,
     "metadata": {},
     "output_type": "execute_result"
    }
   ],
   "source": [
    "df['MOTHER_HI_EDU_DESC'].value_counts()\n",
    "# It is the same as in father's education\n",
    "# We can keep one of them "
   ]
  },
  {
   "cell_type": "code",
   "execution_count": 280,
   "metadata": {},
   "outputs": [
    {
     "data": {
      "text/html": [
       "<div>\n",
       "<style scoped>\n",
       "    .dataframe tbody tr th:only-of-type {\n",
       "        vertical-align: middle;\n",
       "    }\n",
       "\n",
       "    .dataframe tbody tr th {\n",
       "        vertical-align: top;\n",
       "    }\n",
       "\n",
       "    .dataframe thead th {\n",
       "        text-align: right;\n",
       "    }\n",
       "</style>\n",
       "<table border=\"1\" class=\"dataframe\">\n",
       "  <thead>\n",
       "    <tr style=\"text-align: right;\">\n",
       "      <th>Target</th>\n",
       "      <th>0</th>\n",
       "      <th>1</th>\n",
       "    </tr>\n",
       "    <tr>\n",
       "      <th>MOTHER_HI_EDU_DESC</th>\n",
       "      <th></th>\n",
       "      <th></th>\n",
       "    </tr>\n",
       "  </thead>\n",
       "  <tbody>\n",
       "    <tr>\n",
       "      <th>College/Beyond</th>\n",
       "      <td>1199</td>\n",
       "      <td>301</td>\n",
       "    </tr>\n",
       "    <tr>\n",
       "      <th>High School</th>\n",
       "      <td>958</td>\n",
       "      <td>265</td>\n",
       "    </tr>\n",
       "    <tr>\n",
       "      <th>Middle School/Junior High</th>\n",
       "      <td>55</td>\n",
       "      <td>16</td>\n",
       "    </tr>\n",
       "    <tr>\n",
       "      <th>No Information</th>\n",
       "      <td>366</td>\n",
       "      <td>123</td>\n",
       "    </tr>\n",
       "    <tr>\n",
       "      <th>Other/Unknown</th>\n",
       "      <td>99</td>\n",
       "      <td>18</td>\n",
       "    </tr>\n",
       "  </tbody>\n",
       "</table>\n",
       "</div>"
      ],
      "text/plain": [
       "Target                        0    1\n",
       "MOTHER_HI_EDU_DESC                  \n",
       "College/Beyond             1199  301\n",
       "High School                 958  265\n",
       "Middle School/Junior High    55   16\n",
       "No Information              366  123\n",
       "Other/Unknown                99   18"
      ]
     },
     "execution_count": 280,
     "metadata": {},
     "output_type": "execute_result"
    }
   ],
   "source": [
    "pd.crosstab(df['MOTHER_HI_EDU_DESC'],df['Target'])"
   ]
  },
  {
   "cell_type": "markdown",
   "metadata": {},
   "source": [
    "## Degree enrolled in "
   ]
  },
  {
   "cell_type": "code",
   "execution_count": 281,
   "metadata": {},
   "outputs": [
    {
     "data": {
      "text/plain": [
       "B    3384\n",
       "A      12\n",
       "V       4\n",
       "Name: DEGREE_GROUP_CD, dtype: int64"
      ]
     },
     "execution_count": 281,
     "metadata": {},
     "output_type": "execute_result"
    }
   ],
   "source": [
    "df['DEGREE_GROUP_CD'].value_counts()"
   ]
  },
  {
   "cell_type": "code",
   "execution_count": 282,
   "metadata": {},
   "outputs": [
    {
     "data": {
      "text/plain": [
       "Bachelors           3384\n",
       "Associate             12\n",
       "Career Associate       4\n",
       "Name: DEGREE_GROUP_DESC, dtype: int64"
      ]
     },
     "execution_count": 282,
     "metadata": {},
     "output_type": "execute_result"
    }
   ],
   "source": [
    "df['DEGREE_GROUP_DESC'].value_counts()\n",
    "# We can drop one of them "
   ]
  },
  {
   "cell_type": "code",
   "execution_count": 283,
   "metadata": {},
   "outputs": [
    {
     "data": {
      "text/html": [
       "<div>\n",
       "<style scoped>\n",
       "    .dataframe tbody tr th:only-of-type {\n",
       "        vertical-align: middle;\n",
       "    }\n",
       "\n",
       "    .dataframe tbody tr th {\n",
       "        vertical-align: top;\n",
       "    }\n",
       "\n",
       "    .dataframe thead th {\n",
       "        text-align: right;\n",
       "    }\n",
       "</style>\n",
       "<table border=\"1\" class=\"dataframe\">\n",
       "  <thead>\n",
       "    <tr style=\"text-align: right;\">\n",
       "      <th>Target</th>\n",
       "      <th>0</th>\n",
       "      <th>1</th>\n",
       "    </tr>\n",
       "    <tr>\n",
       "      <th>DEGREE_GROUP_DESC</th>\n",
       "      <th></th>\n",
       "      <th></th>\n",
       "    </tr>\n",
       "  </thead>\n",
       "  <tbody>\n",
       "    <tr>\n",
       "      <th>Associate</th>\n",
       "      <td>10</td>\n",
       "      <td>2</td>\n",
       "    </tr>\n",
       "    <tr>\n",
       "      <th>Bachelors</th>\n",
       "      <td>2664</td>\n",
       "      <td>720</td>\n",
       "    </tr>\n",
       "    <tr>\n",
       "      <th>Career Associate</th>\n",
       "      <td>3</td>\n",
       "      <td>1</td>\n",
       "    </tr>\n",
       "  </tbody>\n",
       "</table>\n",
       "</div>"
      ],
      "text/plain": [
       "Target                0    1\n",
       "DEGREE_GROUP_DESC           \n",
       "Associate            10    2\n",
       "Bachelors          2664  720\n",
       "Career Associate      3    1"
      ]
     },
     "execution_count": 283,
     "metadata": {},
     "output_type": "execute_result"
    }
   ],
   "source": [
    "pd.crosstab(df['DEGREE_GROUP_DESC'],df['Target'])\n",
    "# Most of the students are enrolled in Bachelors and most of the attrition is from Bachelors"
   ]
  },
  {
   "cell_type": "markdown",
   "metadata": {},
   "source": [
    "## Attempt vs Earned"
   ]
  },
  {
   "cell_type": "code",
   "execution_count": 284,
   "metadata": {},
   "outputs": [
    {
     "data": {
      "text/plain": [
       "FIRST_TERM_ATTEMPT_HRS    0\n",
       "FIRST_TERM_EARNED_HRS     0\n",
       "dtype: int64"
      ]
     },
     "execution_count": 284,
     "metadata": {},
     "output_type": "execute_result"
    }
   ],
   "source": [
    "df[['FIRST_TERM_ATTEMPT_HRS','FIRST_TERM_EARNED_HRS']].isnull().sum()"
   ]
  },
  {
   "cell_type": "code",
   "execution_count": 285,
   "metadata": {},
   "outputs": [
    {
     "data": {
      "text/plain": [
       "SECOND_TERM_ATTEMPT_HRS    206\n",
       "SECOND_TERM_EARNED_HRS     209\n",
       "dtype: int64"
      ]
     },
     "execution_count": 285,
     "metadata": {},
     "output_type": "execute_result"
    }
   ],
   "source": [
    "df[['SECOND_TERM_ATTEMPT_HRS','SECOND_TERM_EARNED_HRS']].isnull().sum()"
   ]
  },
  {
   "cell_type": "code",
   "execution_count": 286,
   "metadata": {},
   "outputs": [
    {
     "data": {
      "text/plain": [
       "0       0\n",
       "1       0\n",
       "2       0\n",
       "3       0\n",
       "4       0\n",
       "       ..\n",
       "3395    0\n",
       "3396    4\n",
       "3397    8\n",
       "3398    3\n",
       "3399    3\n",
       "Length: 3400, dtype: int64"
      ]
     },
     "execution_count": 286,
     "metadata": {},
     "output_type": "execute_result"
    }
   ],
   "source": [
    "df['FIRST_TERM_ATTEMPT_HRS']-df['FIRST_TERM_EARNED_HRS']\n",
    "# We can use the difference between them to know how much student has fallen short same with second term"
   ]
  },
  {
   "cell_type": "markdown",
   "metadata": {},
   "source": [
    "## Financial need"
   ]
  },
  {
   "cell_type": "code",
   "execution_count": 287,
   "metadata": {},
   "outputs": [
    {
     "data": {
      "text/plain": [
       "<AxesSubplot:xlabel='GROSS_FIN_NEED', ylabel='Count'>"
      ]
     },
     "execution_count": 287,
     "metadata": {},
     "output_type": "execute_result"
    },
    {
     "data": {
      "image/png": "[encoded data removed]",
      "text/plain": [
       "<Figure size 432x288 with 1 Axes>"
      ]
     },
     "metadata": {
      "needs_background": "light"
     },
     "output_type": "display_data"
    }
   ],
   "source": [
    "sns.histplot(data=df,x='GROSS_FIN_NEED',kde='True',linewidth=0,hue='Target')"
   ]
  },
  {
   "cell_type": "markdown",
   "metadata": {},
   "source": [
    "## Course fees"
   ]
  },
  {
   "cell_type": "code",
   "execution_count": 288,
   "metadata": {},
   "outputs": [
    {
     "data": {
      "text/plain": [
       "<AxesSubplot:xlabel='COST_OF_ATTEND', ylabel='Count'>"
      ]
     },
     "execution_count": 288,
     "metadata": {},
     "output_type": "execute_result"
    },
    {
     "data": {
      "image/png": "[encoded data removed]",
      "text/plain": [
       "<Figure size 432x288 with 1 Axes>"
      ]
     },
     "metadata": {
      "needs_background": "light"
     },
     "output_type": "display_data"
    }
   ],
   "source": [
    "sns.histplot(data=df,x='COST_OF_ATTEND',kde='True',linewidth=0,hue='Target')"
   ]
  },
  {
   "cell_type": "markdown",
   "metadata": {},
   "source": [
    "## Family contribution"
   ]
  },
  {
   "cell_type": "code",
   "execution_count": 289,
   "metadata": {},
   "outputs": [
    {
     "data": {
      "text/plain": [
       "<AxesSubplot:xlabel='EST_FAM_CONTRIBUTION', ylabel='Count'>"
      ]
     },
     "execution_count": 289,
     "metadata": {},
     "output_type": "execute_result"
    },
    {
     "data": {
      "image/png": "[encoded data removed]",
      "text/plain": [
       "<Figure size 432x288 with 1 Axes>"
      ]
     },
     "metadata": {
      "needs_background": "light"
     },
     "output_type": "display_data"
    }
   ],
   "source": [
    "sns.histplot(data=df,x='EST_FAM_CONTRIBUTION',kde='True')"
   ]
  },
  {
   "cell_type": "markdown",
   "metadata": {},
   "source": [
    "## Unmet needs"
   ]
  },
  {
   "cell_type": "code",
   "execution_count": 290,
   "metadata": {
    "scrolled": true
   },
   "outputs": [
    {
     "data": {
      "text/plain": [
       "<AxesSubplot:xlabel='UNMET_NEED', ylabel='Count'>"
      ]
     },
     "execution_count": 290,
     "metadata": {},
     "output_type": "execute_result"
    },
    {
     "data": {
      "image/png": "[encoded data removed]",
      "text/plain": [
       "<Figure size 432x288 with 1 Axes>"
      ]
     },
     "metadata": {
      "needs_background": "light"
     },
     "output_type": "display_data"
    }
   ],
   "source": [
    "sns.histplot(data=df,x='UNMET_NEED',kde='True')"
   ]
  },
  {
   "cell_type": "markdown",
   "metadata": {},
   "source": [
    "# Feature engineering"
   ]
  },
  {
   "cell_type": "code",
   "execution_count": 292,
   "metadata": {},
   "outputs": [
    {
     "data": {
      "text/plain": [
       "Index(['STDNT_AGE', 'STDNT_GENDER', 'STDNT_BACKGROUND', 'IN_STATE_FLAG',\n",
       "       'INTERNATIONAL_STS', 'STDNT_MAJOR', 'STDNT_MINOR',\n",
       "       'STDNT_TEST_ENTRANCE_COMB', 'FIRST_TERM', 'CORE_COURSE_NAME_1_F',\n",
       "       'CORE_COURSE_GRADE_1_F', 'CORE_COURSE_NAME_2_F',\n",
       "       'CORE_COURSE_GRADE_2_F', 'CORE_COURSE_NAME_3_F',\n",
       "       'CORE_COURSE_GRADE_3_F', 'CORE_COURSE_NAME_4_F',\n",
       "       'CORE_COURSE_GRADE_4_F', 'CORE_COURSE_NAME_5_F',\n",
       "       'CORE_COURSE_GRADE_5_F', 'CORE_COURSE_NAME_6_F',\n",
       "       'CORE_COURSE_GRADE_6_F', 'SECOND_TERM', 'CORE_COURSE_NAME_1_S',\n",
       "       'CORE_COURSE_GRADE_1_S', 'CORE_COURSE_NAME_2_S',\n",
       "       'CORE_COURSE_GRADE_2_S', 'CORE_COURSE_NAME_3_S',\n",
       "       'CORE_COURSE_GRADE_3_S', 'CORE_COURSE_NAME_4_S',\n",
       "       'CORE_COURSE_GRADE_4_S', 'CORE_COURSE_NAME_5_S',\n",
       "       'CORE_COURSE_GRADE_5_S', 'CORE_COURSE_NAME_6_S',\n",
       "       'CORE_COURSE_GRADE_6_S', 'HOUSING_STS', 'DISTANCE_FROM_HOME',\n",
       "       'HIGH_SCHL_GPA', 'HIGH_SCHL_NAME', 'FATHER_HI_EDU_DESC',\n",
       "       'MOTHER_HI_EDU_DESC', 'DEGREE_GROUP_DESC', 'FIRST_TERM_ATTEMPT_HRS',\n",
       "       'FIRST_TERM_EARNED_HRS', 'SECOND_TERM_ATTEMPT_HRS',\n",
       "       'SECOND_TERM_EARNED_HRS', 'COST_OF_ATTEND', 'EST_FAM_CONTRIBUTION',\n",
       "       'UNMET_NEED', 'Target'],\n",
       "      dtype='object')"
      ]
     },
     "execution_count": 292,
     "metadata": {},
     "output_type": "execute_result"
    }
   ],
   "source": [
    "columns_to_remove = ['STUDENT IDENTIFIER', #since it serves no purpose\n",
    "                    'STDNT_TEST_ENTRANCE1', #since both entrance 1&2 have large missing values\n",
    "                    'STDNT_TEST_ENTRANCE2', #and since the same information is captured in the combined variable\n",
    "                    'FATHER_HI_EDU_CD', #redundant as FATHER_HI_EDU_DESC serves the same purpose\n",
    "                    'MOTHER_HI_EDU_CD', #redundant as MOTHER_HI_EDU_DESC serves the same purpose\n",
    "                    'DEGREE_GROUP_CD', #redundant as same information is captured in DEGREE_GROUP_DESC\n",
    "                    'GROSS_FIN_NEED'] #same information is captured in UNMET_NEED\n",
    "df.drop(columns_to_remove,axis=1,inplace=True)\n",
    "df.columns"
   ]
  },
  {
   "cell_type": "code",
   "execution_count": null,
   "metadata": {},
   "outputs": [],
   "source": []
  }
 ],
 "metadata": {
  "interpreter": {
   "hash": "9483d3a6b315267bc1ad8033d72d52edd75e7f3d51fd5ecb041025f625014cad"
  },
  "kernelspec": {
   "display_name": "Python 3",
   "language": "python",
   "name": "python3"
  },
  "language_info": {
   "codemirror_mode": {
    "name": "ipython",
    "version": 3
   },
   "file_extension": ".py",
   "mimetype": "text/x-python",
   "name": "python",
   "nbconvert_exporter": "python",
   "pygments_lexer": "ipython3",
   "version": "3.9.4"
  }
 },
 "nbformat": 4,
 "nbformat_minor": 2
}
